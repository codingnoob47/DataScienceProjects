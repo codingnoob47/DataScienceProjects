{
  "nbformat": 4,
  "nbformat_minor": 0,
  "metadata": {
    "colab": {
      "name": "MiniVggNet_test_file.ipynb",
      "provenance": [],
      "machine_shape": "hm"
    },
    "kernelspec": {
      "name": "python3",
      "display_name": "Python 3"
    },
    "language_info": {
      "name": "python"
    },
    "accelerator": "GPU"
  },
  "cells": [
    {
      "cell_type": "code",
      "execution_count": 1,
      "metadata": {
        "colab": {
          "base_uri": "https://localhost:8080/"
        },
        "id": "QxsvuUUMY4z_",
        "outputId": "d3403a60-5d17-4193-ec7f-6a06bca518f6"
      },
      "outputs": [
        {
          "output_type": "stream",
          "name": "stdout",
          "text": [
            "Mounted at /content/gdrive\n",
            "/content/gdrive/MyDrive/ComputerVision/Covid19-Detector\n"
          ]
        }
      ],
      "source": [
        "from google.colab import drive\n",
        "drive.mount('/content/gdrive')\n",
        "%cd /content/gdrive/MyDrive/ComputerVision/Covid19-Detector/"
      ]
    },
    {
      "cell_type": "code",
      "source": [
        "!pip install import-ipynb\n",
        "import import_ipynb"
      ],
      "metadata": {
        "colab": {
          "base_uri": "https://localhost:8080/"
        },
        "id": "OsLmnW5SZGET",
        "outputId": "5ce3a5b7-8bb1-41d3-cf84-444ad42c518e"
      },
      "execution_count": 2,
      "outputs": [
        {
          "output_type": "stream",
          "name": "stdout",
          "text": [
            "Collecting import-ipynb\n",
            "  Downloading import-ipynb-0.1.3.tar.gz (4.0 kB)\n",
            "Building wheels for collected packages: import-ipynb\n",
            "  Building wheel for import-ipynb (setup.py) ... \u001b[?25l\u001b[?25hdone\n",
            "  Created wheel for import-ipynb: filename=import_ipynb-0.1.3-py3-none-any.whl size=2975 sha256=0d1e60dd30aa431e0da0b47e9c150d4331dfa355250324d0024c47551a58b798\n",
            "  Stored in directory: /root/.cache/pip/wheels/b1/5e/dc/79780689896a056199b0b9f24471e3ee184fbd816df355d5f0\n",
            "Successfully built import-ipynb\n",
            "Installing collected packages: import-ipynb\n",
            "Successfully installed import-ipynb-0.1.3\n"
          ]
        }
      ]
    },
    {
      "cell_type": "code",
      "source": [
        "from data_loader import DatasetLoader\n",
        "from simplepreprocessor import SimplePreprocessor\n",
        "from imagetoarraypreprocessor import ImageToArrayPreprocessor\n",
        "from neural_network_architecture import  LeNet, MiniVGGNet, ShallowNet"
      ],
      "metadata": {
        "colab": {
          "base_uri": "https://localhost:8080/"
        },
        "id": "SSjMXe_SZJDv",
        "outputId": "98a72820-2555-44d1-a1ba-43cb2d844f05"
      },
      "execution_count": 3,
      "outputs": [
        {
          "output_type": "stream",
          "name": "stdout",
          "text": [
            "importing Jupyter notebook from data_loader.ipynb\n",
            "Drive already mounted at /content/gdrive; to attempt to forcibly remount, call drive.mount(\"/content/gdrive\", force_remount=True).\n",
            "importing Jupyter notebook from simplepreprocessor.ipynb\n",
            "importing Jupyter notebook from imagetoarraypreprocessor.ipynb\n",
            "importing Jupyter notebook from neural_network_architecture.ipynb\n"
          ]
        }
      ]
    },
    {
      "cell_type": "code",
      "source": [
        "from sklearn.preprocessing import LabelBinarizer\n",
        "from sklearn.metrics import classification_report\n",
        "from sklearn.model_selection import train_test_split\n",
        "from tensorflow.keras.optimizers import SGD\n",
        "import matplotlib.pyplot as plt\n",
        "import numpy as np"
      ],
      "metadata": {
        "id": "RJ2dsBTwZLej"
      },
      "execution_count": 4,
      "outputs": []
    },
    {
      "cell_type": "code",
      "source": [
        "\n",
        "WIDTH = 224\n",
        "HEIGHT = 224\n",
        "\n",
        "sp = SimplePreprocessor(WIDTH, HEIGHT)\n",
        "iap = ImageToArrayPreprocessor()"
      ],
      "metadata": {
        "id": "dH_RNsYuZNnZ"
      },
      "execution_count": 5,
      "outputs": []
    },
    {
      "cell_type": "code",
      "source": [
        "dl = DatasetLoader(preprocessors=[sp, iap])"
      ],
      "metadata": {
        "id": "q93n65FMZP9N"
      },
      "execution_count": 6,
      "outputs": []
    },
    {
      "cell_type": "code",
      "source": [
        "(data, labels) = dl.load_data()"
      ],
      "metadata": {
        "id": "ZDMUHJ9PZTm9"
      },
      "execution_count": 7,
      "outputs": []
    },
    {
      "cell_type": "code",
      "source": [
        "(trainX, testX, trainY, testY) = train_test_split(data, labels,test_size=0.25, random_state=412)"
      ],
      "metadata": {
        "id": "jnge_wgEZWdK"
      },
      "execution_count": 8,
      "outputs": []
    },
    {
      "cell_type": "code",
      "source": [
        "trainY"
      ],
      "metadata": {
        "colab": {
          "base_uri": "https://localhost:8080/"
        },
        "id": "4rZ55ej4bGve",
        "outputId": "b2a9d890-495a-43d2-fe0e-da2b1594dd1f"
      },
      "execution_count": 9,
      "outputs": [
        {
          "output_type": "execute_result",
          "data": {
            "text/plain": [
              "array(['Negative', 'Negative', 'Negative', ..., 'Negative', 'Negative',\n",
              "       'Negative'], dtype='<U8')"
            ]
          },
          "metadata": {},
          "execution_count": 9
        }
      ]
    },
    {
      "cell_type": "code",
      "source": [
        "# convert the labels from integers to vectors\n",
        "#trainY = LabelBinarizer().fit_transform(trainY)\n",
        "#testY = LabelBinarizer().fit_transform(testY)\n",
        "\n",
        "from sklearn.preprocessing import LabelEncoder\n",
        "from tensorflow.keras.utils import to_categorical\n",
        "le = LabelEncoder().fit(trainY)\n",
        "trainY = to_categorical(le.transform(trainY), 2)\n",
        "testY = to_categorical(le.transform(testY), 2)"
      ],
      "metadata": {
        "id": "tNYmBMG8ZZ_g"
      },
      "execution_count": 10,
      "outputs": []
    },
    {
      "cell_type": "code",
      "source": [
        "from tensorflow.keras.preprocessing.image import ImageDataGenerator\n",
        "# initialize an our data augmenter \n",
        "aug = ImageDataGenerator(\n",
        "\t\trotation_range=20,\n",
        "\t\tzoom_range=0.15,\n",
        "\t\twidth_shift_range=0.2,\n",
        "\t\theight_shift_range=0.2,\n",
        "\t\tshear_range=0.15,\n",
        "\t\thorizontal_flip=True,\n",
        "\t\tfill_mode=\"nearest\")"
      ],
      "metadata": {
        "id": "zBo0PuM4ZdDj"
      },
      "execution_count": 11,
      "outputs": []
    },
    {
      "cell_type": "code",
      "source": [
        "print(\"Compiling MiniVGGNet  Model\")\n",
        "\n",
        "\n",
        "INIT_LR = 1e-3\n",
        "BS = 32\n",
        "EPOCHS = 100\n",
        "opt = SGD(lr=INIT_LR, momentum=0.9, decay=INIT_LR / EPOCHS)\n",
        "model = MiniVGGNet.build(width=WIDTH, height=HEIGHT, depth=3, classes=2)\n",
        "model.compile(loss= \"binary_crossentropy\", optimizer=opt,\n",
        "metrics=[\"accuracy\"])\n",
        "\n",
        "# train the network\n",
        "print(\"[INFO] training network...\")\n",
        "H = model.fit(x=aug.flow(trainX, trainY, batch_size=BS),\n",
        "\tvalidation_data=(testX, testY),\n",
        "\tsteps_per_epoch=len(trainX) // BS,\n",
        "\tepochs=EPOCHS)\n"
      ],
      "metadata": {
        "colab": {
          "base_uri": "https://localhost:8080/"
        },
        "id": "MX_hrm_vZ9x0",
        "outputId": "8728401c-5e42-4a72-a5eb-d849f5fa491d"
      },
      "execution_count": 12,
      "outputs": [
        {
          "output_type": "stream",
          "name": "stdout",
          "text": [
            "Compiling MiniVGGNet  Model\n"
          ]
        },
        {
          "output_type": "stream",
          "name": "stderr",
          "text": [
            "/usr/local/lib/python3.7/dist-packages/keras/optimizer_v2/gradient_descent.py:102: UserWarning: The `lr` argument is deprecated, use `learning_rate` instead.\n",
            "  super(SGD, self).__init__(name, **kwargs)\n"
          ]
        },
        {
          "output_type": "stream",
          "name": "stdout",
          "text": [
            "[INFO] training network...\n",
            "Epoch 1/100\n",
            "124/124 [==============================] - 48s 317ms/step - loss: 0.7323 - accuracy: 0.6612 - val_loss: 0.3905 - val_accuracy: 0.9842\n",
            "Epoch 2/100\n",
            "124/124 [==============================] - 38s 305ms/step - loss: 0.4459 - accuracy: 0.8708 - val_loss: 1.8374 - val_accuracy: 0.6594\n",
            "Epoch 3/100\n",
            "124/124 [==============================] - 38s 308ms/step - loss: 0.2975 - accuracy: 0.9458 - val_loss: 6.3139 - val_accuracy: 0.0810\n",
            "Epoch 4/100\n",
            "124/124 [==============================] - 38s 310ms/step - loss: 0.2160 - accuracy: 0.9695 - val_loss: 4.7662 - val_accuracy: 0.5071\n",
            "Epoch 5/100\n",
            "124/124 [==============================] - 39s 313ms/step - loss: 0.1629 - accuracy: 0.9798 - val_loss: 2.0318 - val_accuracy: 0.8095\n",
            "Epoch 6/100\n",
            "124/124 [==============================] - 42s 338ms/step - loss: 0.1381 - accuracy: 0.9770 - val_loss: 1.9812 - val_accuracy: 0.8245\n",
            "Epoch 7/100\n",
            "124/124 [==============================] - 38s 302ms/step - loss: 0.1122 - accuracy: 0.9844 - val_loss: 1.0900 - val_accuracy: 0.9077\n",
            "Epoch 8/100\n",
            "124/124 [==============================] - 38s 307ms/step - loss: 0.0979 - accuracy: 0.9839 - val_loss: 1.2894 - val_accuracy: 0.8957\n",
            "Epoch 9/100\n",
            "124/124 [==============================] - 37s 302ms/step - loss: 0.0866 - accuracy: 0.9826 - val_loss: 0.8142 - val_accuracy: 0.9385\n",
            "Epoch 10/100\n",
            "124/124 [==============================] - 38s 304ms/step - loss: 0.0776 - accuracy: 0.9861 - val_loss: 0.7056 - val_accuracy: 0.9497\n",
            "Epoch 11/100\n",
            "124/124 [==============================] - 37s 301ms/step - loss: 0.0724 - accuracy: 0.9846 - val_loss: 0.4422 - val_accuracy: 0.9602\n",
            "Epoch 12/100\n",
            "124/124 [==============================] - 38s 305ms/step - loss: 0.0634 - accuracy: 0.9884 - val_loss: 1.5116 - val_accuracy: 0.9002\n",
            "Epoch 13/100\n",
            "124/124 [==============================] - 38s 303ms/step - loss: 0.0598 - accuracy: 0.9879 - val_loss: 1.4891 - val_accuracy: 0.9205\n",
            "Epoch 14/100\n",
            "124/124 [==============================] - 38s 304ms/step - loss: 0.0577 - accuracy: 0.9871 - val_loss: 0.3060 - val_accuracy: 0.9715\n",
            "Epoch 15/100\n",
            "124/124 [==============================] - 38s 306ms/step - loss: 0.0581 - accuracy: 0.9869 - val_loss: 4.3794 - val_accuracy: 0.7944\n",
            "Epoch 16/100\n",
            "124/124 [==============================] - 38s 302ms/step - loss: 0.0551 - accuracy: 0.9879 - val_loss: 0.9341 - val_accuracy: 0.9310\n",
            "Epoch 17/100\n",
            "124/124 [==============================] - 38s 302ms/step - loss: 0.0517 - accuracy: 0.9881 - val_loss: 0.3677 - val_accuracy: 0.9610\n",
            "Epoch 18/100\n",
            "124/124 [==============================] - 37s 301ms/step - loss: 0.0527 - accuracy: 0.9854 - val_loss: 2.9819 - val_accuracy: 0.8672\n",
            "Epoch 19/100\n",
            "124/124 [==============================] - 38s 303ms/step - loss: 0.0448 - accuracy: 0.9894 - val_loss: 0.5342 - val_accuracy: 0.9452\n",
            "Epoch 20/100\n",
            "124/124 [==============================] - 37s 300ms/step - loss: 0.0402 - accuracy: 0.9909 - val_loss: 0.5384 - val_accuracy: 0.9467\n",
            "Epoch 21/100\n",
            "124/124 [==============================] - 38s 302ms/step - loss: 0.0412 - accuracy: 0.9894 - val_loss: 0.9744 - val_accuracy: 0.9317\n",
            "Epoch 22/100\n",
            "124/124 [==============================] - 37s 301ms/step - loss: 0.0399 - accuracy: 0.9889 - val_loss: 0.7652 - val_accuracy: 0.9467\n",
            "Epoch 23/100\n",
            "124/124 [==============================] - 38s 303ms/step - loss: 0.0435 - accuracy: 0.9889 - val_loss: 2.0197 - val_accuracy: 0.9085\n",
            "Epoch 24/100\n",
            "124/124 [==============================] - 37s 300ms/step - loss: 0.0417 - accuracy: 0.9886 - val_loss: 0.6676 - val_accuracy: 0.9685\n",
            "Epoch 25/100\n",
            "124/124 [==============================] - 37s 301ms/step - loss: 0.0376 - accuracy: 0.9917 - val_loss: 0.5762 - val_accuracy: 0.9542\n",
            "Epoch 26/100\n",
            "124/124 [==============================] - 38s 302ms/step - loss: 0.0388 - accuracy: 0.9904 - val_loss: 0.7398 - val_accuracy: 0.9640\n",
            "Epoch 27/100\n",
            "124/124 [==============================] - 38s 303ms/step - loss: 0.0393 - accuracy: 0.9907 - val_loss: 1.0073 - val_accuracy: 0.9445\n",
            "Epoch 28/100\n",
            "124/124 [==============================] - 37s 300ms/step - loss: 0.0417 - accuracy: 0.9892 - val_loss: 0.8222 - val_accuracy: 0.9565\n",
            "Epoch 29/100\n",
            "124/124 [==============================] - 37s 301ms/step - loss: 0.0414 - accuracy: 0.9871 - val_loss: 1.5465 - val_accuracy: 0.9017\n",
            "Epoch 30/100\n",
            "124/124 [==============================] - 38s 303ms/step - loss: 0.0387 - accuracy: 0.9876 - val_loss: 2.3905 - val_accuracy: 0.8537\n",
            "Epoch 31/100\n",
            "124/124 [==============================] - 38s 303ms/step - loss: 0.0354 - accuracy: 0.9907 - val_loss: 0.5431 - val_accuracy: 0.9512\n",
            "Epoch 32/100\n",
            "124/124 [==============================] - 37s 300ms/step - loss: 0.0445 - accuracy: 0.9881 - val_loss: 0.6791 - val_accuracy: 0.9467\n",
            "Epoch 33/100\n",
            "124/124 [==============================] - 37s 300ms/step - loss: 0.0375 - accuracy: 0.9902 - val_loss: 3.9873 - val_accuracy: 0.8500\n",
            "Epoch 34/100\n",
            "124/124 [==============================] - 38s 302ms/step - loss: 0.0337 - accuracy: 0.9919 - val_loss: 4.5454 - val_accuracy: 0.8260\n",
            "Epoch 35/100\n",
            "124/124 [==============================] - 37s 300ms/step - loss: 0.0352 - accuracy: 0.9902 - val_loss: 0.4688 - val_accuracy: 0.9700\n",
            "Epoch 36/100\n",
            "124/124 [==============================] - 37s 301ms/step - loss: 0.0304 - accuracy: 0.9902 - val_loss: 2.0652 - val_accuracy: 0.8965\n",
            "Epoch 37/100\n",
            "124/124 [==============================] - 37s 301ms/step - loss: 0.0348 - accuracy: 0.9889 - val_loss: 1.7277 - val_accuracy: 0.9160\n",
            "Epoch 38/100\n",
            "124/124 [==============================] - 38s 302ms/step - loss: 0.0294 - accuracy: 0.9929 - val_loss: 0.9940 - val_accuracy: 0.9580\n",
            "Epoch 39/100\n",
            "124/124 [==============================] - 37s 302ms/step - loss: 0.0299 - accuracy: 0.9912 - val_loss: 1.2917 - val_accuracy: 0.9205\n",
            "Epoch 40/100\n",
            "124/124 [==============================] - 37s 302ms/step - loss: 0.0330 - accuracy: 0.9912 - val_loss: 1.1346 - val_accuracy: 0.9302\n",
            "Epoch 41/100\n",
            "124/124 [==============================] - 37s 301ms/step - loss: 0.0342 - accuracy: 0.9904 - val_loss: 0.8939 - val_accuracy: 0.8905\n",
            "Epoch 42/100\n",
            "124/124 [==============================] - 38s 302ms/step - loss: 0.0376 - accuracy: 0.9886 - val_loss: 0.7028 - val_accuracy: 0.9070\n",
            "Epoch 43/100\n",
            "124/124 [==============================] - 38s 303ms/step - loss: 0.0309 - accuracy: 0.9907 - val_loss: 0.4856 - val_accuracy: 0.9355\n",
            "Epoch 44/100\n",
            "124/124 [==============================] - 38s 303ms/step - loss: 0.0317 - accuracy: 0.9902 - val_loss: 0.5061 - val_accuracy: 0.9355\n",
            "Epoch 45/100\n",
            "124/124 [==============================] - 38s 307ms/step - loss: 0.0338 - accuracy: 0.9897 - val_loss: 0.3935 - val_accuracy: 0.9692\n",
            "Epoch 46/100\n",
            "124/124 [==============================] - 38s 304ms/step - loss: 0.0283 - accuracy: 0.9919 - val_loss: 0.4297 - val_accuracy: 0.9760\n",
            "Epoch 47/100\n",
            "124/124 [==============================] - 37s 299ms/step - loss: 0.0284 - accuracy: 0.9904 - val_loss: 0.0522 - val_accuracy: 0.9857\n",
            "Epoch 48/100\n",
            "124/124 [==============================] - 37s 297ms/step - loss: 0.0291 - accuracy: 0.9917 - val_loss: 0.5426 - val_accuracy: 0.9602\n",
            "Epoch 49/100\n",
            "124/124 [==============================] - 37s 298ms/step - loss: 0.0304 - accuracy: 0.9917 - val_loss: 0.0505 - val_accuracy: 0.9872\n",
            "Epoch 50/100\n",
            "124/124 [==============================] - 37s 300ms/step - loss: 0.0317 - accuracy: 0.9909 - val_loss: 0.0773 - val_accuracy: 0.9880\n",
            "Epoch 51/100\n",
            "124/124 [==============================] - 37s 298ms/step - loss: 0.0336 - accuracy: 0.9902 - val_loss: 0.1004 - val_accuracy: 0.9797\n",
            "Epoch 52/100\n",
            "124/124 [==============================] - 37s 298ms/step - loss: 0.0328 - accuracy: 0.9902 - val_loss: 0.3164 - val_accuracy: 0.9602\n",
            "Epoch 53/100\n",
            "124/124 [==============================] - 37s 298ms/step - loss: 0.0313 - accuracy: 0.9922 - val_loss: 0.2540 - val_accuracy: 0.9745\n",
            "Epoch 54/100\n",
            "124/124 [==============================] - 37s 299ms/step - loss: 0.0242 - accuracy: 0.9927 - val_loss: 1.6519 - val_accuracy: 0.9070\n",
            "Epoch 55/100\n",
            "124/124 [==============================] - 38s 306ms/step - loss: 0.0263 - accuracy: 0.9922 - val_loss: 0.2473 - val_accuracy: 0.9782\n",
            "Epoch 56/100\n",
            "124/124 [==============================] - 37s 299ms/step - loss: 0.0302 - accuracy: 0.9919 - val_loss: 0.2256 - val_accuracy: 0.9797\n",
            "Epoch 57/100\n",
            "124/124 [==============================] - 37s 300ms/step - loss: 0.0288 - accuracy: 0.9919 - val_loss: 0.1346 - val_accuracy: 0.9835\n",
            "Epoch 58/100\n",
            "124/124 [==============================] - 37s 297ms/step - loss: 0.0262 - accuracy: 0.9934 - val_loss: 0.1680 - val_accuracy: 0.9842\n",
            "Epoch 59/100\n",
            "124/124 [==============================] - 37s 299ms/step - loss: 0.0256 - accuracy: 0.9937 - val_loss: 0.6640 - val_accuracy: 0.9617\n",
            "Epoch 60/100\n",
            "124/124 [==============================] - 37s 297ms/step - loss: 0.0234 - accuracy: 0.9924 - val_loss: 0.1571 - val_accuracy: 0.9827\n",
            "Epoch 61/100\n",
            "124/124 [==============================] - 37s 297ms/step - loss: 0.0310 - accuracy: 0.9914 - val_loss: 0.0513 - val_accuracy: 0.9872\n",
            "Epoch 62/100\n",
            "124/124 [==============================] - 37s 296ms/step - loss: 0.0276 - accuracy: 0.9914 - val_loss: 0.0548 - val_accuracy: 0.9880\n",
            "Epoch 63/100\n",
            "124/124 [==============================] - 37s 299ms/step - loss: 0.0289 - accuracy: 0.9922 - val_loss: 0.3447 - val_accuracy: 0.9692\n",
            "Epoch 64/100\n",
            "124/124 [==============================] - 37s 296ms/step - loss: 0.0233 - accuracy: 0.9939 - val_loss: 0.0705 - val_accuracy: 0.9857\n",
            "Epoch 65/100\n",
            "124/124 [==============================] - 37s 297ms/step - loss: 0.0262 - accuracy: 0.9919 - val_loss: 0.0871 - val_accuracy: 0.9835\n",
            "Epoch 66/100\n",
            "124/124 [==============================] - 37s 297ms/step - loss: 0.0250 - accuracy: 0.9934 - val_loss: 0.1277 - val_accuracy: 0.9842\n",
            "Epoch 67/100\n",
            "124/124 [==============================] - 37s 298ms/step - loss: 0.0227 - accuracy: 0.9924 - val_loss: 0.0464 - val_accuracy: 0.9865\n",
            "Epoch 68/100\n",
            "124/124 [==============================] - 37s 298ms/step - loss: 0.0287 - accuracy: 0.9909 - val_loss: 0.0985 - val_accuracy: 0.9895\n",
            "Epoch 69/100\n",
            "124/124 [==============================] - 37s 297ms/step - loss: 0.0205 - accuracy: 0.9942 - val_loss: 0.0579 - val_accuracy: 0.9880\n",
            "Epoch 70/100\n",
            "124/124 [==============================] - 37s 298ms/step - loss: 0.0294 - accuracy: 0.9907 - val_loss: 0.0486 - val_accuracy: 0.9895\n",
            "Epoch 71/100\n",
            "124/124 [==============================] - 37s 297ms/step - loss: 0.0280 - accuracy: 0.9912 - val_loss: 0.0280 - val_accuracy: 0.9902\n",
            "Epoch 72/100\n",
            "124/124 [==============================] - 37s 298ms/step - loss: 0.0274 - accuracy: 0.9914 - val_loss: 0.1097 - val_accuracy: 0.9850\n",
            "Epoch 73/100\n",
            "124/124 [==============================] - 37s 297ms/step - loss: 0.0233 - accuracy: 0.9927 - val_loss: 0.0679 - val_accuracy: 0.9872\n",
            "Epoch 74/100\n",
            "124/124 [==============================] - 37s 297ms/step - loss: 0.0270 - accuracy: 0.9909 - val_loss: 0.2823 - val_accuracy: 0.9805\n",
            "Epoch 75/100\n",
            "124/124 [==============================] - 37s 297ms/step - loss: 0.0203 - accuracy: 0.9945 - val_loss: 0.1294 - val_accuracy: 0.9887\n",
            "Epoch 76/100\n",
            "124/124 [==============================] - 37s 297ms/step - loss: 0.0239 - accuracy: 0.9922 - val_loss: 0.0947 - val_accuracy: 0.9910\n",
            "Epoch 77/100\n",
            "124/124 [==============================] - 37s 297ms/step - loss: 0.0202 - accuracy: 0.9939 - val_loss: 0.0855 - val_accuracy: 0.9887\n",
            "Epoch 78/100\n",
            "124/124 [==============================] - 37s 298ms/step - loss: 0.0209 - accuracy: 0.9927 - val_loss: 0.2839 - val_accuracy: 0.9752\n",
            "Epoch 79/100\n",
            "124/124 [==============================] - 37s 297ms/step - loss: 0.0211 - accuracy: 0.9945 - val_loss: 0.1219 - val_accuracy: 0.9902\n",
            "Epoch 80/100\n",
            "124/124 [==============================] - 37s 297ms/step - loss: 0.0226 - accuracy: 0.9929 - val_loss: 0.0895 - val_accuracy: 0.9850\n",
            "Epoch 81/100\n",
            "124/124 [==============================] - 37s 297ms/step - loss: 0.0274 - accuracy: 0.9922 - val_loss: 1.3882 - val_accuracy: 0.3151\n",
            "Epoch 82/100\n",
            "124/124 [==============================] - 37s 296ms/step - loss: 0.0230 - accuracy: 0.9927 - val_loss: 0.1241 - val_accuracy: 0.9842\n",
            "Epoch 83/100\n",
            "124/124 [==============================] - 37s 297ms/step - loss: 0.0250 - accuracy: 0.9914 - val_loss: 0.1173 - val_accuracy: 0.9880\n",
            "Epoch 84/100\n",
            "124/124 [==============================] - 37s 298ms/step - loss: 0.0225 - accuracy: 0.9939 - val_loss: 0.1205 - val_accuracy: 0.9902\n",
            "Epoch 85/100\n",
            "124/124 [==============================] - 37s 297ms/step - loss: 0.0194 - accuracy: 0.9947 - val_loss: 0.3914 - val_accuracy: 0.9550\n",
            "Epoch 86/100\n",
            "124/124 [==============================] - 37s 297ms/step - loss: 0.0242 - accuracy: 0.9919 - val_loss: 0.2465 - val_accuracy: 0.9797\n",
            "Epoch 87/100\n",
            "124/124 [==============================] - 37s 297ms/step - loss: 0.0206 - accuracy: 0.9945 - val_loss: 0.0331 - val_accuracy: 0.9902\n",
            "Epoch 88/100\n",
            "124/124 [==============================] - 37s 296ms/step - loss: 0.0199 - accuracy: 0.9937 - val_loss: 0.0664 - val_accuracy: 0.9880\n",
            "Epoch 89/100\n",
            "124/124 [==============================] - 37s 298ms/step - loss: 0.0172 - accuracy: 0.9950 - val_loss: 0.0830 - val_accuracy: 0.9887\n",
            "Epoch 90/100\n",
            "124/124 [==============================] - 37s 297ms/step - loss: 0.0208 - accuracy: 0.9934 - val_loss: 0.0446 - val_accuracy: 0.9880\n",
            "Epoch 91/100\n",
            "124/124 [==============================] - 37s 298ms/step - loss: 0.0208 - accuracy: 0.9937 - val_loss: 0.2614 - val_accuracy: 0.9850\n",
            "Epoch 92/100\n",
            "124/124 [==============================] - 37s 299ms/step - loss: 0.0189 - accuracy: 0.9939 - val_loss: 0.1608 - val_accuracy: 0.9820\n",
            "Epoch 93/100\n",
            "124/124 [==============================] - 37s 297ms/step - loss: 0.0229 - accuracy: 0.9939 - val_loss: 0.1052 - val_accuracy: 0.9857\n",
            "Epoch 94/100\n",
            "124/124 [==============================] - 37s 297ms/step - loss: 0.0188 - accuracy: 0.9939 - val_loss: 0.0727 - val_accuracy: 0.9842\n",
            "Epoch 95/100\n",
            "124/124 [==============================] - 37s 298ms/step - loss: 0.0197 - accuracy: 0.9947 - val_loss: 0.0785 - val_accuracy: 0.9872\n",
            "Epoch 96/100\n",
            "124/124 [==============================] - 37s 297ms/step - loss: 0.0185 - accuracy: 0.9937 - val_loss: 0.0616 - val_accuracy: 0.9887\n",
            "Epoch 97/100\n",
            "124/124 [==============================] - 37s 299ms/step - loss: 0.0186 - accuracy: 0.9942 - val_loss: 0.0795 - val_accuracy: 0.9887\n",
            "Epoch 98/100\n",
            "124/124 [==============================] - 37s 299ms/step - loss: 0.0157 - accuracy: 0.9957 - val_loss: 0.1279 - val_accuracy: 0.9850\n",
            "Epoch 99/100\n",
            "124/124 [==============================] - 37s 296ms/step - loss: 0.0239 - accuracy: 0.9922 - val_loss: 0.0276 - val_accuracy: 0.9917\n",
            "Epoch 100/100\n",
            "124/124 [==============================] - 37s 298ms/step - loss: 0.0206 - accuracy: 0.9927 - val_loss: 0.0387 - val_accuracy: 0.9895\n"
          ]
        }
      ]
    },
    {
      "cell_type": "code",
      "source": [
        "print(\"[INFO] evaluating network...\")\n",
        "predictions = model.predict(testX, batch_size=BS)\n",
        "print(classification_report(testY.argmax(axis=1),\n",
        "predictions.argmax(axis=1), target_names=le.classes_))"
      ],
      "metadata": {
        "colab": {
          "base_uri": "https://localhost:8080/"
        },
        "id": "y-XGRbESaHcS",
        "outputId": "505c3207-b808-408d-cd06-a2bc42c7c721"
      },
      "execution_count": 13,
      "outputs": [
        {
          "output_type": "stream",
          "name": "stdout",
          "text": [
            "[INFO] evaluating network...\n",
            "              precision    recall  f1-score   support\n",
            "\n",
            "    Negative       0.99      1.00      0.99      1312\n",
            "    positive       0.89      0.38      0.53        21\n",
            "\n",
            "    accuracy                           0.99      1333\n",
            "   macro avg       0.94      0.69      0.76      1333\n",
            "weighted avg       0.99      0.99      0.99      1333\n",
            "\n"
          ]
        }
      ]
    }
  ]
}