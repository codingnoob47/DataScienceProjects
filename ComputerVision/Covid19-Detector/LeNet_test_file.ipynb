{
  "nbformat": 4,
  "nbformat_minor": 0,
  "metadata": {
    "colab": {
      "name": "LeNet_test_file.ipynb",
      "provenance": [],
      "machine_shape": "hm"
    },
    "kernelspec": {
      "name": "python3",
      "display_name": "Python 3"
    },
    "language_info": {
      "name": "python"
    },
    "accelerator": "GPU"
  },
  "cells": [
    {
      "cell_type": "code",
      "execution_count": 1,
      "metadata": {
        "colab": {
          "base_uri": "https://localhost:8080/"
        },
        "id": "fYAyaK3WwRqh",
        "outputId": "6c7e98f3-95ad-46b5-cf14-14a409d2b292"
      },
      "outputs": [
        {
          "output_type": "stream",
          "name": "stdout",
          "text": [
            "Mounted at /content/gdrive\n",
            "/content/gdrive/MyDrive/ComputerVision/Covid19-Detector\n"
          ]
        }
      ],
      "source": [
        "from google.colab import drive\n",
        "drive.mount('/content/gdrive')\n",
        "%cd /content/gdrive/MyDrive/ComputerVision/Covid19-Detector/"
      ]
    },
    {
      "cell_type": "code",
      "source": [
        "!pip install import-ipynb\n",
        "import import_ipynb"
      ],
      "metadata": {
        "colab": {
          "base_uri": "https://localhost:8080/"
        },
        "id": "sMqAI7UWwdNr",
        "outputId": "53cd2489-dfb9-4689-815f-efe1b565571d"
      },
      "execution_count": 2,
      "outputs": [
        {
          "output_type": "stream",
          "name": "stdout",
          "text": [
            "Collecting import-ipynb\n",
            "  Downloading import-ipynb-0.1.3.tar.gz (4.0 kB)\n",
            "Building wheels for collected packages: import-ipynb\n",
            "  Building wheel for import-ipynb (setup.py) ... \u001b[?25l\u001b[?25hdone\n",
            "  Created wheel for import-ipynb: filename=import_ipynb-0.1.3-py3-none-any.whl size=2975 sha256=e5c22b65a2ce303a910ab57142fed53c3c2535228732c2ba50f873ceefc3615d\n",
            "  Stored in directory: /root/.cache/pip/wheels/b1/5e/dc/79780689896a056199b0b9f24471e3ee184fbd816df355d5f0\n",
            "Successfully built import-ipynb\n",
            "Installing collected packages: import-ipynb\n",
            "Successfully installed import-ipynb-0.1.3\n"
          ]
        }
      ]
    },
    {
      "cell_type": "code",
      "source": [
        "from data_loader import DatasetLoader\n",
        "from simplepreprocessor import SimplePreprocessor\n",
        "from imagetoarraypreprocessor import ImageToArrayPreprocessor\n",
        "from neural_network_architecture import  LeNet, MiniVGGNet, ShallowNet"
      ],
      "metadata": {
        "colab": {
          "base_uri": "https://localhost:8080/"
        },
        "id": "sWmyJ9sqwgxr",
        "outputId": "b6c6f702-f651-461b-e26f-a34b0588fbc9"
      },
      "execution_count": 3,
      "outputs": [
        {
          "output_type": "stream",
          "name": "stdout",
          "text": [
            "importing Jupyter notebook from data_loader.ipynb\n",
            "Drive already mounted at /content/gdrive; to attempt to forcibly remount, call drive.mount(\"/content/gdrive\", force_remount=True).\n",
            "importing Jupyter notebook from simplepreprocessor.ipynb\n",
            "importing Jupyter notebook from imagetoarraypreprocessor.ipynb\n",
            "importing Jupyter notebook from neural_network_architecture.ipynb\n"
          ]
        }
      ]
    },
    {
      "cell_type": "code",
      "source": [
        "from sklearn.preprocessing import LabelBinarizer\n",
        "from sklearn.metrics import classification_report\n",
        "from sklearn.model_selection import train_test_split\n",
        "from tensorflow.keras.optimizers import SGD\n",
        "import matplotlib.pyplot as plt\n",
        "import numpy as np"
      ],
      "metadata": {
        "id": "MkDr-v0Iwiu4"
      },
      "execution_count": 4,
      "outputs": []
    },
    {
      "cell_type": "code",
      "source": [
        "\n",
        "WIDTH = 224\n",
        "HEIGHT = 224\n",
        "\n",
        "sp = SimplePreprocessor(WIDTH, HEIGHT)\n",
        "iap = ImageToArrayPreprocessor()"
      ],
      "metadata": {
        "id": "plIl_9QNwkoB"
      },
      "execution_count": 5,
      "outputs": []
    },
    {
      "cell_type": "code",
      "source": [
        "dl = DatasetLoader(preprocessors=[sp, iap])"
      ],
      "metadata": {
        "id": "gs88h4dswmTW"
      },
      "execution_count": 6,
      "outputs": []
    },
    {
      "cell_type": "code",
      "source": [
        "(data, labels) = dl.load_data()"
      ],
      "metadata": {
        "id": "geFE0nVQwoqv"
      },
      "execution_count": 7,
      "outputs": []
    },
    {
      "cell_type": "code",
      "source": [
        "(trainX, testX, trainY, testY) = train_test_split(data, labels,test_size=0.25, random_state=412)"
      ],
      "metadata": {
        "id": "JseVdRaMwrgu"
      },
      "execution_count": 8,
      "outputs": []
    },
    {
      "cell_type": "code",
      "source": [
        "# convert the labels from integers to vectors\n",
        "#trainY = LabelBinarizer().fit_transform(trainY)\n",
        "#testY = LabelBinarizer().fit_transform(testY)\n",
        "\n",
        "from sklearn.preprocessing import LabelEncoder\n",
        "from tensorflow.keras.utils import to_categorical\n",
        "le = LabelEncoder().fit(trainY)\n",
        "trainY = to_categorical(le.transform(trainY), 2)\n",
        "testY = to_categorical(le.transform(testY), 2)"
      ],
      "metadata": {
        "id": "dhSaaQMawuOh"
      },
      "execution_count": 9,
      "outputs": []
    },
    {
      "cell_type": "code",
      "source": [
        "from tensorflow.keras.preprocessing.image import ImageDataGenerator\n",
        "# initialize an our data augmenter \n",
        "aug = ImageDataGenerator(\n",
        "\t\trotation_range=20,\n",
        "\t\tzoom_range=0.15,\n",
        "\t\twidth_shift_range=0.2,\n",
        "\t\theight_shift_range=0.2,\n",
        "\t\tshear_range=0.15,\n",
        "\t\thorizontal_flip=True,\n",
        "\t\tfill_mode=\"nearest\")"
      ],
      "metadata": {
        "id": "GIdnRefrwwKy"
      },
      "execution_count": 10,
      "outputs": []
    },
    {
      "cell_type": "code",
      "source": [
        "print(\"Compiling MiniVGGNet  Model\")\n",
        "\n",
        "\n",
        "INIT_LR = 1e-3\n",
        "BS = 32\n",
        "EPOCHS = 100\n",
        "opt = SGD(lr=INIT_LR, momentum=0.9, decay=INIT_LR / EPOCHS)\n",
        "model = LeNet.build(width=WIDTH, height=HEIGHT, depth=3, classes=2)\n",
        "model.compile(loss= \"binary_crossentropy\", optimizer=opt,\n",
        "metrics=[\"accuracy\"])\n",
        "\n",
        "# train the network\n",
        "print(\"[INFO] training network...\")\n",
        "H = model.fit(x=aug.flow(trainX, trainY, batch_size=BS),\n",
        "\tvalidation_data=(testX, testY),\n",
        "\tsteps_per_epoch=len(trainX) // BS,\n",
        "\tepochs=EPOCHS)\n"
      ],
      "metadata": {
        "colab": {
          "base_uri": "https://localhost:8080/"
        },
        "id": "DrXIWSEbwx6p",
        "outputId": "76baf162-d882-40b6-c083-e104d2ff8dbd"
      },
      "execution_count": 11,
      "outputs": [
        {
          "output_type": "stream",
          "name": "stdout",
          "text": [
            "Compiling MiniVGGNet  Model\n"
          ]
        },
        {
          "output_type": "stream",
          "name": "stderr",
          "text": [
            "/usr/local/lib/python3.7/dist-packages/keras/optimizer_v2/gradient_descent.py:102: UserWarning: The `lr` argument is deprecated, use `learning_rate` instead.\n",
            "  super(SGD, self).__init__(name, **kwargs)\n"
          ]
        },
        {
          "output_type": "stream",
          "name": "stdout",
          "text": [
            "[INFO] training network...\n",
            "Epoch 1/100\n",
            "124/124 [==============================] - 48s 312ms/step - loss: 0.1322 - accuracy: 0.9773 - val_loss: 0.0826 - val_accuracy: 0.9842\n",
            "Epoch 2/100\n",
            "124/124 [==============================] - 37s 301ms/step - loss: 0.0982 - accuracy: 0.9768 - val_loss: 0.0435 - val_accuracy: 0.9842\n",
            "Epoch 3/100\n",
            "124/124 [==============================] - 38s 303ms/step - loss: 0.0660 - accuracy: 0.9801 - val_loss: 0.0343 - val_accuracy: 0.9857\n",
            "Epoch 4/100\n",
            "124/124 [==============================] - 38s 303ms/step - loss: 0.0760 - accuracy: 0.9783 - val_loss: 0.0318 - val_accuracy: 0.9865\n",
            "Epoch 5/100\n",
            "124/124 [==============================] - 38s 302ms/step - loss: 0.0638 - accuracy: 0.9786 - val_loss: 0.0241 - val_accuracy: 0.9887\n",
            "Epoch 6/100\n",
            "124/124 [==============================] - 38s 303ms/step - loss: 0.0585 - accuracy: 0.9808 - val_loss: 0.0258 - val_accuracy: 0.9887\n",
            "Epoch 7/100\n",
            "124/124 [==============================] - 37s 301ms/step - loss: 0.0562 - accuracy: 0.9808 - val_loss: 0.0251 - val_accuracy: 0.9887\n",
            "Epoch 8/100\n",
            "124/124 [==============================] - 38s 306ms/step - loss: 0.0597 - accuracy: 0.9821 - val_loss: 0.0234 - val_accuracy: 0.9887\n",
            "Epoch 9/100\n",
            "124/124 [==============================] - 38s 307ms/step - loss: 0.0571 - accuracy: 0.9818 - val_loss: 0.0302 - val_accuracy: 0.9887\n",
            "Epoch 10/100\n",
            "124/124 [==============================] - 38s 309ms/step - loss: 0.0545 - accuracy: 0.9849 - val_loss: 0.0458 - val_accuracy: 0.9857\n",
            "Epoch 11/100\n",
            "124/124 [==============================] - 37s 298ms/step - loss: 0.0615 - accuracy: 0.9818 - val_loss: 0.0237 - val_accuracy: 0.9887\n",
            "Epoch 12/100\n",
            "124/124 [==============================] - 37s 299ms/step - loss: 0.0565 - accuracy: 0.9813 - val_loss: 0.0252 - val_accuracy: 0.9880\n",
            "Epoch 13/100\n",
            "124/124 [==============================] - 37s 297ms/step - loss: 0.0551 - accuracy: 0.9836 - val_loss: 0.0269 - val_accuracy: 0.9872\n",
            "Epoch 14/100\n",
            "124/124 [==============================] - 37s 297ms/step - loss: 0.0461 - accuracy: 0.9856 - val_loss: 0.0226 - val_accuracy: 0.9880\n",
            "Epoch 15/100\n",
            "124/124 [==============================] - 37s 301ms/step - loss: 0.0510 - accuracy: 0.9846 - val_loss: 0.0222 - val_accuracy: 0.9872\n",
            "Epoch 16/100\n",
            "124/124 [==============================] - 37s 298ms/step - loss: 0.0497 - accuracy: 0.9849 - val_loss: 0.0232 - val_accuracy: 0.9880\n",
            "Epoch 17/100\n",
            "124/124 [==============================] - 37s 298ms/step - loss: 0.0499 - accuracy: 0.9859 - val_loss: 0.0230 - val_accuracy: 0.9880\n",
            "Epoch 18/100\n",
            "124/124 [==============================] - 37s 297ms/step - loss: 0.0529 - accuracy: 0.9839 - val_loss: 0.0240 - val_accuracy: 0.9880\n",
            "Epoch 19/100\n",
            "124/124 [==============================] - 37s 298ms/step - loss: 0.0495 - accuracy: 0.9851 - val_loss: 0.0227 - val_accuracy: 0.9880\n",
            "Epoch 20/100\n",
            "124/124 [==============================] - 37s 297ms/step - loss: 0.0510 - accuracy: 0.9836 - val_loss: 0.0226 - val_accuracy: 0.9887\n",
            "Epoch 21/100\n",
            "124/124 [==============================] - 37s 297ms/step - loss: 0.0519 - accuracy: 0.9841 - val_loss: 0.0286 - val_accuracy: 0.9910\n",
            "Epoch 22/100\n",
            "124/124 [==============================] - 37s 298ms/step - loss: 0.0509 - accuracy: 0.9859 - val_loss: 0.0296 - val_accuracy: 0.9880\n",
            "Epoch 23/100\n",
            "124/124 [==============================] - 37s 295ms/step - loss: 0.0469 - accuracy: 0.9864 - val_loss: 0.0233 - val_accuracy: 0.9880\n",
            "Epoch 24/100\n",
            "124/124 [==============================] - 37s 296ms/step - loss: 0.0468 - accuracy: 0.9876 - val_loss: 0.0235 - val_accuracy: 0.9880\n",
            "Epoch 25/100\n",
            "124/124 [==============================] - 37s 295ms/step - loss: 0.0521 - accuracy: 0.9851 - val_loss: 0.0276 - val_accuracy: 0.9895\n",
            "Epoch 26/100\n",
            "124/124 [==============================] - 37s 295ms/step - loss: 0.0483 - accuracy: 0.9856 - val_loss: 0.0230 - val_accuracy: 0.9895\n",
            "Epoch 27/100\n",
            "124/124 [==============================] - 37s 295ms/step - loss: 0.0482 - accuracy: 0.9851 - val_loss: 0.0272 - val_accuracy: 0.9895\n",
            "Epoch 28/100\n",
            "124/124 [==============================] - 37s 297ms/step - loss: 0.0482 - accuracy: 0.9861 - val_loss: 0.0289 - val_accuracy: 0.9902\n",
            "Epoch 29/100\n",
            "124/124 [==============================] - 37s 298ms/step - loss: 0.0446 - accuracy: 0.9846 - val_loss: 0.0222 - val_accuracy: 0.9880\n",
            "Epoch 30/100\n",
            "124/124 [==============================] - 37s 296ms/step - loss: 0.0423 - accuracy: 0.9879 - val_loss: 0.0226 - val_accuracy: 0.9880\n",
            "Epoch 31/100\n",
            "124/124 [==============================] - 37s 295ms/step - loss: 0.0450 - accuracy: 0.9854 - val_loss: 0.0233 - val_accuracy: 0.9902\n",
            "Epoch 32/100\n",
            "124/124 [==============================] - 37s 295ms/step - loss: 0.0422 - accuracy: 0.9874 - val_loss: 0.0248 - val_accuracy: 0.9910\n",
            "Epoch 33/100\n",
            "124/124 [==============================] - 37s 295ms/step - loss: 0.0442 - accuracy: 0.9864 - val_loss: 0.0233 - val_accuracy: 0.9887\n",
            "Epoch 34/100\n",
            "124/124 [==============================] - 37s 294ms/step - loss: 0.0470 - accuracy: 0.9861 - val_loss: 0.0231 - val_accuracy: 0.9895\n",
            "Epoch 35/100\n",
            "124/124 [==============================] - 37s 297ms/step - loss: 0.0472 - accuracy: 0.9871 - val_loss: 0.0222 - val_accuracy: 0.9895\n",
            "Epoch 36/100\n",
            "124/124 [==============================] - 36s 294ms/step - loss: 0.0453 - accuracy: 0.9866 - val_loss: 0.0252 - val_accuracy: 0.9902\n",
            "Epoch 37/100\n",
            "124/124 [==============================] - 37s 295ms/step - loss: 0.0448 - accuracy: 0.9866 - val_loss: 0.0221 - val_accuracy: 0.9887\n",
            "Epoch 38/100\n",
            "124/124 [==============================] - 37s 295ms/step - loss: 0.0452 - accuracy: 0.9876 - val_loss: 0.0233 - val_accuracy: 0.9902\n",
            "Epoch 39/100\n",
            "124/124 [==============================] - 37s 296ms/step - loss: 0.0465 - accuracy: 0.9841 - val_loss: 0.0232 - val_accuracy: 0.9887\n",
            "Epoch 40/100\n",
            "124/124 [==============================] - 37s 298ms/step - loss: 0.0445 - accuracy: 0.9849 - val_loss: 0.0234 - val_accuracy: 0.9887\n",
            "Epoch 41/100\n",
            "124/124 [==============================] - 37s 300ms/step - loss: 0.0446 - accuracy: 0.9856 - val_loss: 0.0249 - val_accuracy: 0.9902\n",
            "Epoch 42/100\n",
            "124/124 [==============================] - 37s 297ms/step - loss: 0.0411 - accuracy: 0.9871 - val_loss: 0.0379 - val_accuracy: 0.9857\n",
            "Epoch 43/100\n",
            "124/124 [==============================] - 37s 295ms/step - loss: 0.0490 - accuracy: 0.9854 - val_loss: 0.0235 - val_accuracy: 0.9910\n",
            "Epoch 44/100\n",
            "124/124 [==============================] - 38s 303ms/step - loss: 0.0391 - accuracy: 0.9881 - val_loss: 0.0244 - val_accuracy: 0.9902\n",
            "Epoch 45/100\n",
            "124/124 [==============================] - 36s 294ms/step - loss: 0.0418 - accuracy: 0.9871 - val_loss: 0.0226 - val_accuracy: 0.9902\n",
            "Epoch 46/100\n",
            "124/124 [==============================] - 36s 294ms/step - loss: 0.0369 - accuracy: 0.9889 - val_loss: 0.0243 - val_accuracy: 0.9887\n",
            "Epoch 47/100\n",
            "124/124 [==============================] - 36s 294ms/step - loss: 0.0375 - accuracy: 0.9876 - val_loss: 0.0239 - val_accuracy: 0.9895\n",
            "Epoch 48/100\n",
            "124/124 [==============================] - 37s 295ms/step - loss: 0.0461 - accuracy: 0.9859 - val_loss: 0.0231 - val_accuracy: 0.9880\n",
            "Epoch 49/100\n",
            "124/124 [==============================] - 36s 293ms/step - loss: 0.0454 - accuracy: 0.9854 - val_loss: 0.0237 - val_accuracy: 0.9887\n",
            "Epoch 50/100\n",
            "124/124 [==============================] - 37s 297ms/step - loss: 0.0461 - accuracy: 0.9871 - val_loss: 0.0229 - val_accuracy: 0.9895\n",
            "Epoch 51/100\n",
            "124/124 [==============================] - 37s 294ms/step - loss: 0.0398 - accuracy: 0.9881 - val_loss: 0.0254 - val_accuracy: 0.9902\n",
            "Epoch 52/100\n",
            "124/124 [==============================] - 37s 297ms/step - loss: 0.0442 - accuracy: 0.9856 - val_loss: 0.0241 - val_accuracy: 0.9880\n",
            "Epoch 53/100\n",
            "124/124 [==============================] - 37s 295ms/step - loss: 0.0398 - accuracy: 0.9884 - val_loss: 0.0261 - val_accuracy: 0.9895\n",
            "Epoch 54/100\n",
            "124/124 [==============================] - 37s 296ms/step - loss: 0.0423 - accuracy: 0.9884 - val_loss: 0.0239 - val_accuracy: 0.9895\n",
            "Epoch 55/100\n",
            "124/124 [==============================] - 37s 295ms/step - loss: 0.0450 - accuracy: 0.9849 - val_loss: 0.0414 - val_accuracy: 0.9835\n",
            "Epoch 56/100\n",
            "124/124 [==============================] - 37s 295ms/step - loss: 0.0392 - accuracy: 0.9881 - val_loss: 0.0241 - val_accuracy: 0.9895\n",
            "Epoch 57/100\n",
            "124/124 [==============================] - 37s 296ms/step - loss: 0.0430 - accuracy: 0.9874 - val_loss: 0.0235 - val_accuracy: 0.9887\n",
            "Epoch 58/100\n",
            "124/124 [==============================] - 36s 294ms/step - loss: 0.0451 - accuracy: 0.9869 - val_loss: 0.0237 - val_accuracy: 0.9887\n",
            "Epoch 59/100\n",
            "124/124 [==============================] - 37s 295ms/step - loss: 0.0390 - accuracy: 0.9894 - val_loss: 0.0226 - val_accuracy: 0.9887\n",
            "Epoch 60/100\n",
            "124/124 [==============================] - 37s 296ms/step - loss: 0.0427 - accuracy: 0.9864 - val_loss: 0.0230 - val_accuracy: 0.9895\n",
            "Epoch 61/100\n",
            "124/124 [==============================] - 37s 296ms/step - loss: 0.0388 - accuracy: 0.9897 - val_loss: 0.0312 - val_accuracy: 0.9887\n",
            "Epoch 62/100\n",
            "124/124 [==============================] - 37s 296ms/step - loss: 0.0362 - accuracy: 0.9876 - val_loss: 0.0238 - val_accuracy: 0.9910\n",
            "Epoch 63/100\n",
            "124/124 [==============================] - 37s 297ms/step - loss: 0.0389 - accuracy: 0.9899 - val_loss: 0.0258 - val_accuracy: 0.9902\n",
            "Epoch 64/100\n",
            "124/124 [==============================] - 37s 296ms/step - loss: 0.0421 - accuracy: 0.9876 - val_loss: 0.0236 - val_accuracy: 0.9902\n",
            "Epoch 65/100\n",
            "124/124 [==============================] - 37s 296ms/step - loss: 0.0376 - accuracy: 0.9897 - val_loss: 0.0275 - val_accuracy: 0.9902\n",
            "Epoch 66/100\n",
            "124/124 [==============================] - 37s 298ms/step - loss: 0.0421 - accuracy: 0.9869 - val_loss: 0.0293 - val_accuracy: 0.9902\n",
            "Epoch 67/100\n",
            "124/124 [==============================] - 37s 296ms/step - loss: 0.0386 - accuracy: 0.9886 - val_loss: 0.0238 - val_accuracy: 0.9895\n",
            "Epoch 68/100\n",
            "124/124 [==============================] - 37s 298ms/step - loss: 0.0411 - accuracy: 0.9871 - val_loss: 0.0239 - val_accuracy: 0.9902\n",
            "Epoch 69/100\n",
            "124/124 [==============================] - 37s 296ms/step - loss: 0.0384 - accuracy: 0.9871 - val_loss: 0.0221 - val_accuracy: 0.9895\n",
            "Epoch 70/100\n",
            "124/124 [==============================] - 37s 298ms/step - loss: 0.0379 - accuracy: 0.9884 - val_loss: 0.0285 - val_accuracy: 0.9902\n",
            "Epoch 71/100\n",
            "124/124 [==============================] - 37s 297ms/step - loss: 0.0354 - accuracy: 0.9879 - val_loss: 0.0294 - val_accuracy: 0.9895\n",
            "Epoch 72/100\n",
            "124/124 [==============================] - 37s 298ms/step - loss: 0.0387 - accuracy: 0.9892 - val_loss: 0.0228 - val_accuracy: 0.9910\n",
            "Epoch 73/100\n",
            "124/124 [==============================] - 37s 297ms/step - loss: 0.0428 - accuracy: 0.9874 - val_loss: 0.0227 - val_accuracy: 0.9910\n",
            "Epoch 74/100\n",
            "124/124 [==============================] - 37s 299ms/step - loss: 0.0347 - accuracy: 0.9897 - val_loss: 0.0258 - val_accuracy: 0.9902\n",
            "Epoch 75/100\n",
            "124/124 [==============================] - 37s 297ms/step - loss: 0.0435 - accuracy: 0.9892 - val_loss: 0.0228 - val_accuracy: 0.9910\n",
            "Epoch 76/100\n",
            "124/124 [==============================] - 37s 298ms/step - loss: 0.0399 - accuracy: 0.9884 - val_loss: 0.0229 - val_accuracy: 0.9910\n",
            "Epoch 77/100\n",
            "124/124 [==============================] - 37s 296ms/step - loss: 0.0399 - accuracy: 0.9879 - val_loss: 0.0230 - val_accuracy: 0.9887\n",
            "Epoch 78/100\n",
            "124/124 [==============================] - 37s 297ms/step - loss: 0.0377 - accuracy: 0.9869 - val_loss: 0.0208 - val_accuracy: 0.9895\n",
            "Epoch 79/100\n",
            "124/124 [==============================] - 37s 299ms/step - loss: 0.0369 - accuracy: 0.9899 - val_loss: 0.0243 - val_accuracy: 0.9910\n",
            "Epoch 80/100\n",
            "124/124 [==============================] - 37s 297ms/step - loss: 0.0366 - accuracy: 0.9869 - val_loss: 0.0290 - val_accuracy: 0.9910\n",
            "Epoch 81/100\n",
            "124/124 [==============================] - 37s 298ms/step - loss: 0.0414 - accuracy: 0.9879 - val_loss: 0.0225 - val_accuracy: 0.9910\n",
            "Epoch 82/100\n",
            "124/124 [==============================] - 37s 298ms/step - loss: 0.0361 - accuracy: 0.9889 - val_loss: 0.0240 - val_accuracy: 0.9895\n",
            "Epoch 83/100\n",
            "124/124 [==============================] - 37s 297ms/step - loss: 0.0334 - accuracy: 0.9904 - val_loss: 0.0267 - val_accuracy: 0.9902\n",
            "Epoch 84/100\n",
            "124/124 [==============================] - 37s 298ms/step - loss: 0.0374 - accuracy: 0.9884 - val_loss: 0.0231 - val_accuracy: 0.9902\n",
            "Epoch 85/100\n",
            "124/124 [==============================] - 37s 298ms/step - loss: 0.0369 - accuracy: 0.9894 - val_loss: 0.0231 - val_accuracy: 0.9902\n",
            "Epoch 86/100\n",
            "124/124 [==============================] - 37s 297ms/step - loss: 0.0355 - accuracy: 0.9886 - val_loss: 0.0221 - val_accuracy: 0.9895\n",
            "Epoch 87/100\n",
            "124/124 [==============================] - 37s 298ms/step - loss: 0.0394 - accuracy: 0.9886 - val_loss: 0.0268 - val_accuracy: 0.9910\n",
            "Epoch 88/100\n",
            "124/124 [==============================] - 37s 298ms/step - loss: 0.0333 - accuracy: 0.9884 - val_loss: 0.0228 - val_accuracy: 0.9910\n",
            "Epoch 89/100\n",
            "124/124 [==============================] - 37s 298ms/step - loss: 0.0376 - accuracy: 0.9884 - val_loss: 0.0237 - val_accuracy: 0.9910\n",
            "Epoch 90/100\n",
            "124/124 [==============================] - 37s 297ms/step - loss: 0.0402 - accuracy: 0.9881 - val_loss: 0.0219 - val_accuracy: 0.9910\n",
            "Epoch 91/100\n",
            "124/124 [==============================] - 37s 299ms/step - loss: 0.0404 - accuracy: 0.9874 - val_loss: 0.0242 - val_accuracy: 0.9910\n",
            "Epoch 92/100\n",
            "124/124 [==============================] - 37s 299ms/step - loss: 0.0358 - accuracy: 0.9876 - val_loss: 0.0389 - val_accuracy: 0.9842\n",
            "Epoch 93/100\n",
            "124/124 [==============================] - 37s 300ms/step - loss: 0.0398 - accuracy: 0.9881 - val_loss: 0.0231 - val_accuracy: 0.9902\n",
            "Epoch 94/100\n",
            "124/124 [==============================] - 37s 298ms/step - loss: 0.0387 - accuracy: 0.9881 - val_loss: 0.0222 - val_accuracy: 0.9895\n",
            "Epoch 95/100\n",
            "124/124 [==============================] - 37s 299ms/step - loss: 0.0325 - accuracy: 0.9892 - val_loss: 0.0225 - val_accuracy: 0.9910\n",
            "Epoch 96/100\n",
            "124/124 [==============================] - 37s 298ms/step - loss: 0.0388 - accuracy: 0.9889 - val_loss: 0.0242 - val_accuracy: 0.9910\n",
            "Epoch 97/100\n",
            "124/124 [==============================] - 37s 299ms/step - loss: 0.0363 - accuracy: 0.9871 - val_loss: 0.0219 - val_accuracy: 0.9902\n",
            "Epoch 98/100\n",
            "124/124 [==============================] - 37s 297ms/step - loss: 0.0336 - accuracy: 0.9899 - val_loss: 0.0238 - val_accuracy: 0.9902\n",
            "Epoch 99/100\n",
            "124/124 [==============================] - 37s 299ms/step - loss: 0.0353 - accuracy: 0.9886 - val_loss: 0.0225 - val_accuracy: 0.9917\n",
            "Epoch 100/100\n",
            "124/124 [==============================] - 37s 296ms/step - loss: 0.0376 - accuracy: 0.9874 - val_loss: 0.0231 - val_accuracy: 0.9910\n"
          ]
        }
      ]
    },
    {
      "cell_type": "code",
      "source": [
        "print(\"[INFO] evaluating network...\")\n",
        "predictions = model.predict(testX, batch_size=BS)\n",
        "print(classification_report(testY.argmax(axis=1),\n",
        "predictions.argmax(axis=1), target_names=le.classes_))"
      ],
      "metadata": {
        "colab": {
          "base_uri": "https://localhost:8080/"
        },
        "id": "FaFhblICw0ab",
        "outputId": "ae06a740-14ff-4b1b-be5a-754542c128d6"
      },
      "execution_count": 12,
      "outputs": [
        {
          "output_type": "stream",
          "name": "stdout",
          "text": [
            "[INFO] evaluating network...\n",
            "              precision    recall  f1-score   support\n",
            "\n",
            "    Negative       0.99      1.00      1.00      1312\n",
            "    positive       0.76      0.62      0.68        21\n",
            "\n",
            "    accuracy                           0.99      1333\n",
            "   macro avg       0.88      0.81      0.84      1333\n",
            "weighted avg       0.99      0.99      0.99      1333\n",
            "\n"
          ]
        }
      ]
    },
    {
      "cell_type": "code",
      "source": [
        ""
      ],
      "metadata": {
        "id": "U0VprjvNxE0p"
      },
      "execution_count": null,
      "outputs": []
    }
  ]
}