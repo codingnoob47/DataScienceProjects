{
  "nbformat": 4,
  "nbformat_minor": 0,
  "metadata": {
    "colab": {
      "name": "imagetoarray.ipynb",
      "provenance": []
    },
    "kernelspec": {
      "name": "python3",
      "display_name": "Python 3"
    },
    "language_info": {
      "name": "python"
    }
  },
  "cells": [
    {
      "cell_type": "code",
      "metadata": {
        "id": "2K59A1aCMHvl"
      },
      "source": [
        "from tensorflow.keras.preprocessing.image import img_to_array"
      ],
      "execution_count": 1,
      "outputs": []
    },
    {
      "cell_type": "code",
      "metadata": {
        "id": "r6gdpLmPMR1w"
      },
      "source": [
        "class ImagetoArrayPreprocessor:\n",
        "  def __init__(self, dataFormat = None):\n",
        "    self.dataFormat = dataFormat\n",
        "\n",
        "  def preprocess(sef,image):\n",
        "\n",
        "    return img_to_array(image, data_format = self.dataFormat)"
      ],
      "execution_count": 2,
      "outputs": []
    }
  ]
}