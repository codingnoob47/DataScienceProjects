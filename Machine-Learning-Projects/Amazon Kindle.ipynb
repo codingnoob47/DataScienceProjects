{
 "cells": [
  {
   "cell_type": "markdown",
   "metadata": {},
   "source": [
    "# Kindle PaperWhite - Understanding Customer Needs"
   ]
  },
  {
   "cell_type": "markdown",
   "metadata": {},
   "source": [
    "This project focusses on the following areas :\n",
    "    \n",
    "   - Analysis of the dataset\n",
    "   - Understanding of the User's Rating Distribution\n",
    "   - Predict Recommend Status based on the subjective review provided by the user\n",
    "   - Understand reason behind rejecting the product"
   ]
  },
  {
   "cell_type": "markdown",
   "metadata": {},
   "source": [
    "### Approach"
   ]
  },
  {
   "cell_type": "markdown",
   "metadata": {},
   "source": [
    "1. Clean the Dataset\n",
    "    - Clean Column names \n",
    "    - Clean Categories\n",
    "    - Clean Keys\n",
    "2. Analysis of Data\n",
    "3. Transforming Date Time\n",
    "    - Parse ReviewDate to [Date and Time]\n",
    "    - Parse ReviewDateAdded to [Date and Time]\n",
    "    - Parse ReviewDateSeen to [Date and Time]\n",
    "4. Likert Scale Analysis : \n",
    "    - 5 Point NPS Breakdown\n",
    "    - Ratings from 0-3  :  Detractors\n",
    "    - Ratings from 4  : Passive\n",
    "    - Ratings from 5  : Promoter\n",
    "5. Feature Engineering\n",
    "6. Apply NLTK - Sentiment Analysis to find Compound Score\n",
    "7. Understanding the Fearures Added\n",
    "8. Using TF-IDF and Random Forest to predict Recommendation Status\n",
    "9. Identifying which features led to rejection and can be improved"
   ]
  },
  {
   "cell_type": "markdown",
   "metadata": {},
   "source": [
    "# 1. Cleaning the Dataset\n"
   ]
  },
  {
   "cell_type": "code",
   "execution_count": 1,
   "metadata": {},
   "outputs": [
    {
     "name": "stderr",
     "output_type": "stream",
     "text": [
      "/anaconda3/lib/python3.6/site-packages/IPython/core/interactiveshell.py:2785: DtypeWarning: Columns (1,10) have mixed types. Specify dtype option on import or set low_memory=False.\n",
      "  interactivity=interactivity, compiler=compiler, result=result)\n"
     ]
    }
   ],
   "source": [
    "\n",
    "import pandas as pd\n",
    "import matplotlib.pyplot as plt\n",
    "add = \"Review.csv\"\n",
    "df = pd.read_csv(add)\n",
    "df1_oasis = df.iloc[2816:3482,]\n",
    "df2_fire_16gb = df.iloc[14448:15527,]\n",
    "df3_paperwhite_4gb = df.iloc[17216:20392,]\n",
    "df4_voyage = df.iloc[20392:20972,]\n",
    "df5_paperwhite = df.iloc[20989:21019,]"
   ]
  },
  {
   "cell_type": "markdown",
   "metadata": {},
   "source": [
    "#### Exploring individual Dataframes"
   ]
  },
  {
   "cell_type": "code",
   "execution_count": 2,
   "metadata": {},
   "outputs": [
    {
     "name": "stdout",
     "output_type": "stream",
     "text": [
      "(666, 21)\n",
      "(1079, 21)\n",
      "(3176, 21)\n",
      "(580, 21)\n",
      "(30, 21)\n"
     ]
    }
   ],
   "source": [
    "print(df1_oasis.shape)\n",
    "print(df2_fire_16gb.shape)\n",
    "print(df3_paperwhite_4gb.shape)\n",
    "print(df4_voyage.shape)\n",
    "print(df5_paperwhite.shape)"
   ]
  },
  {
   "cell_type": "markdown",
   "metadata": {},
   "source": [
    "We focus our attention on Kindle Paperwhite (df3 and df5), while saving other dataframes for later use"
   ]
  },
  {
   "cell_type": "code",
   "execution_count": 3,
   "metadata": {},
   "outputs": [],
   "source": [
    "df1_oasis.to_csv('Oasis.csv')\n",
    "df2_fire_16gb.to_csv('Fire.csv')\n",
    "df4_voyage.to_csv('Voyage.csv')"
   ]
  },
  {
   "cell_type": "markdown",
   "metadata": {},
   "source": [
    "#### Combining df3 and df5 for Kindle Paperwhite Edition Data Only"
   ]
  },
  {
   "cell_type": "code",
   "execution_count": 4,
   "metadata": {},
   "outputs": [
    {
     "name": "stdout",
     "output_type": "stream",
     "text": [
      "count    3206.000000\n",
      "mean        4.753275\n",
      "std         0.566303\n",
      "min         1.000000\n",
      "25%         5.000000\n",
      "50%         5.000000\n",
      "75%         5.000000\n",
      "max         5.000000\n",
      "Name: reviews.rating, dtype: float64\n"
     ]
    }
   ],
   "source": [
    "frames = [df3_paperwhite_4gb,df5_paperwhite]\n",
    "df4_voyage.to_csv('Voyage.csv')\n",
    "kp = pd.concat(frames)\n",
    "kp.to_csv('KindlePaperWhite.csv')\n",
    "kp = kp.reset_index()\n",
    "\n",
    "print(kp['reviews.rating'].describe())\n",
    "kp.columns = ['Index','ID','Name','ASINS','Brand','Categories','Keys','Manufacturer','ReviewDate','ReviewDateAdded','ReviewDateSeen','PurchasedOnReview','RecommendStatus','ReviewID','ReviewHelpful','Rating','SourceURL','Comments','Title','UserCity','UserProvince','Username']\n",
    "\n",
    "\n"
   ]
  },
  {
   "cell_type": "code",
   "execution_count": 5,
   "metadata": {},
   "outputs": [
    {
     "name": "stdout",
     "output_type": "stream",
     "text": [
      "5.0    2564\n",
      "4.0     545\n",
      "3.0      60\n",
      "2.0      22\n",
      "1.0      15\n",
      "Name: Rating, dtype: int64\n"
     ]
    }
   ],
   "source": [
    "\n",
    "kp = kp.drop(['ReviewID' , 'UserCity' , 'UserProvince','PurchasedOnReview'],axis = 1)\n",
    "\n",
    "print(kp.Rating.value_counts())\n",
    "\n"
   ]
  },
  {
   "cell_type": "code",
   "execution_count": 6,
   "metadata": {},
   "outputs": [
    {
     "data": {
      "text/plain": [
       "Index(['Index', 'ID', 'Name', 'ASINS', 'Brand', 'Categories', 'Keys',\n",
       "       'Manufacturer', 'ReviewDate', 'ReviewDateAdded', 'ReviewDateSeen',\n",
       "       'RecommendStatus', 'ReviewHelpful', 'Rating', 'SourceURL', 'Comments',\n",
       "       'Title', 'Username'],\n",
       "      dtype='object')"
      ]
     },
     "execution_count": 6,
     "metadata": {},
     "output_type": "execute_result"
    }
   ],
   "source": [
    "kp.columns"
   ]
  },
  {
   "cell_type": "markdown",
   "metadata": {},
   "source": [
    "# 2. Analysis of Data\n",
    "\n",
    "    User Rating Count Distribution\n",
    "    Rating          No            Percentage\n",
    "    5                   2564         79.97% \n",
    "    4                   545           16.99%\n",
    "    3                   60             1.87%\n",
    "    2                   22             0.686%\n",
    "    1                   15             0.467%\n",
    "\n",
    "\n"
   ]
  },
  {
   "cell_type": "code",
   "execution_count": 7,
   "metadata": {},
   "outputs": [],
   "source": [
    "#slice for rating 5\n",
    "# slice for recommended\n",
    "#slice for comments"
   ]
  },
  {
   "cell_type": "code",
   "execution_count": 8,
   "metadata": {
    "scrolled": true
   },
   "outputs": [
    {
     "name": "stdout",
     "output_type": "stream",
     "text": [
      "0.0      2861\n",
      "1.0       261\n",
      "2.0        38\n",
      "3.0        17\n",
      "4.0        10\n",
      "5.0         4\n",
      "6.0         2\n",
      "34.0        2\n",
      "26.0        1\n",
      "11.0        1\n",
      "103.0       1\n",
      "43.0        1\n",
      "18.0        1\n",
      "12.0        1\n",
      "7.0         1\n",
      "8.0         1\n",
      "24.0        1\n",
      "17.0        1\n",
      "32.0        1\n",
      "Name: ReviewHelpful, dtype: int64\n"
     ]
    }
   ],
   "source": [
    "kp['Categories'] = 'Tablets'\n",
    "kp['Name'] = 'Amazon Kindle Paperwhite'\n",
    "\n",
    "print(kp.ReviewHelpful.value_counts())\n"
   ]
  },
  {
   "cell_type": "markdown",
   "metadata": {},
   "source": [
    " Let's see the Unique User Names / Shape of the Dataset and the the ' number ' of unique Usernames"
   ]
  },
  {
   "cell_type": "code",
   "execution_count": 9,
   "metadata": {},
   "outputs": [
    {
     "name": "stdout",
     "output_type": "stream",
     "text": [
      "2890\n",
      "(3206, 18)\n"
     ]
    },
    {
     "data": {
      "text/plain": [
       "188"
      ]
     },
     "execution_count": 9,
     "metadata": {},
     "output_type": "execute_result"
    }
   ],
   "source": [
    "print(kp.Username.nunique())\n",
    "print(kp.shape)\n",
    "sum(kp['Username'].value_counts()>1)"
   ]
  },
  {
   "cell_type": "markdown",
   "metadata": {},
   "source": [
    "### NOTES : \n",
    "Understanding the Rating distribution\n",
    "\n",
    "\n",
    "There are total of 2890 unique users , however the total ratings received are 3206, so that means some people are giving their ratings more than once, so we need to figure out if the extra 316 ratings are from people who have already provided ratings, and if yes are they from the same date and how many products\n",
    "\n",
    "there are 188 people who had given more than 1 rating"
   ]
  },
  {
   "cell_type": "code",
   "execution_count": 10,
   "metadata": {},
   "outputs": [
    {
     "data": {
      "text/plain": [
       "2890"
      ]
     },
     "execution_count": 10,
     "metadata": {},
     "output_type": "execute_result"
    }
   ],
   "source": [
    "len(kp['Username'].value_counts()>1)"
   ]
  },
  {
   "cell_type": "markdown",
   "metadata": {},
   "source": [
    "We now have names of people who provided more than one comment we now need to figure out the dates when people with THESE NAMES provided their comments. Select dates on which these people added reviews, sort by Username "
   ]
  },
  {
   "cell_type": "code",
   "execution_count": 11,
   "metadata": {},
   "outputs": [
    {
     "name": "stdout",
     "output_type": "stream",
     "text": [
      "17\n",
      "   index  Index                    ID                      Name       ASINS  \\\n",
      "0      0  17216  AVqVGWLKnnc1JgDc3jF1  Amazon Kindle Paperwhite  B018Y23MNM   \n",
      "1      1  17217  AVqVGWLKnnc1JgDc3jF1  Amazon Kindle Paperwhite  B018Y23MNM   \n",
      "\n",
      "    Brand Categories Manufacturer                ReviewDate  \\\n",
      "0  Amazon    Tablets       Amazon  2017-02-05T00:00:00.000Z   \n",
      "1  Amazon    Tablets       Amazon  2017-02-05T00:00:00.000Z   \n",
      "\n",
      "        ReviewDateAdded                                     ReviewDateSeen  \\\n",
      "0  2017-06-21T07:38:39Z  2017-06-04T02:18:03.660Z,2017-06-03T18:42:15.341Z   \n",
      "1  2017-06-21T07:38:39Z  2017-06-04T02:18:03.660Z,2017-06-03T18:42:15.341Z   \n",
      "\n",
      "  RecommendStatus  ReviewHelpful  Rating  \\\n",
      "0            True            0.0     5.0   \n",
      "1            True            0.0     5.0   \n",
      "\n",
      "                                           SourceURL  \\\n",
      "0  http://reviews.bestbuy.com/3545/5026300/review...   \n",
      "1  http://reviews.bestbuy.com/3545/5026300/review...   \n",
      "\n",
      "                                            Comments           Title Username  \n",
      "0  Was a gift for our 8 year old daughter. Great ...  Great for kids    Bubba  \n",
      "1  my grandkids love it. This is the 3 one we bou...    kids love it    skeet  \n"
     ]
    }
   ],
   "source": [
    "kp.head(2)\n",
    "kp = kp.drop('Keys',axis = 1)\n",
    "print(kp.columns.nunique())\n",
    "kp =kp.reset_index()\n",
    "print(kp.head(2))"
   ]
  },
  {
   "cell_type": "markdown",
   "metadata": {},
   "source": [
    "# 3. Transforming Date Time\n",
    "    - Parse ReviewDate to [Date and Time]\n",
    "    - Parse ReviewDateAdded to [Date and Time]\n",
    "    - Parse ReviewDateSeen to [Date and Time]"
   ]
  },
  {
   "cell_type": "code",
   "execution_count": 12,
   "metadata": {},
   "outputs": [],
   "source": [
    "kp.ReviewDate = pd.to_datetime(kp['ReviewDate'], dayfirst= True)\n",
    "kp.ReviewDateAdded =pd.to_datetime(kp.ReviewDateAdded , dayfirst= True)\n",
    "#kp.ReviewDateSeen = pd.to_datetime(kp.ReviewDateSeen, dayfirst = True)"
   ]
  },
  {
   "cell_type": "code",
   "execution_count": 13,
   "metadata": {},
   "outputs": [
    {
     "name": "stdout",
     "output_type": "stream",
     "text": [
      "   index  Index                    ID                      Name       ASINS  \\\n",
      "0      0  17216  AVqVGWLKnnc1JgDc3jF1  Amazon Kindle Paperwhite  B018Y23MNM   \n",
      "1      1  17217  AVqVGWLKnnc1JgDc3jF1  Amazon Kindle Paperwhite  B018Y23MNM   \n",
      "2      2  17218  AVqVGWLKnnc1JgDc3jF1  Amazon Kindle Paperwhite  B018Y23MNM   \n",
      "3      3  17219  AVqVGWLKnnc1JgDc3jF1  Amazon Kindle Paperwhite  B018Y23MNM   \n",
      "\n",
      "    Brand Categories Manufacturer ReviewDate     ReviewDateAdded  \\\n",
      "0  Amazon    Tablets       Amazon 2017-02-05 2017-06-21 07:38:39   \n",
      "1  Amazon    Tablets       Amazon 2017-02-05 2017-06-21 07:38:39   \n",
      "2  Amazon    Tablets       Amazon 2017-02-05 2017-06-21 07:38:39   \n",
      "3  Amazon    Tablets       Amazon 2017-02-04 2017-06-21 07:38:39   \n",
      "\n",
      "           ReviewDateSeen RecommendStatus  ReviewHelpful  Rating  \\\n",
      "0 2017-06-04 02:18:03.660            True            0.0     5.0   \n",
      "1 2017-06-04 02:18:03.660            True            0.0     5.0   \n",
      "2 2017-06-04 02:18:03.660            True            0.0     3.0   \n",
      "3 2017-06-04 02:18:03.660            True            0.0     3.0   \n",
      "\n",
      "                                           SourceURL  \\\n",
      "0  http://reviews.bestbuy.com/3545/5026300/review...   \n",
      "1  http://reviews.bestbuy.com/3545/5026300/review...   \n",
      "2  http://reviews.bestbuy.com/3545/5026300/review...   \n",
      "3  http://reviews.bestbuy.com/3545/5026300/review...   \n",
      "\n",
      "                                            Comments                Title  \\\n",
      "0  Was a gift for our 8 year old daughter. Great ...       Great for kids   \n",
      "1  my grandkids love it. This is the 3 one we bou...         kids love it   \n",
      "2  Great case ok tablet no Android play store. We...  Tablet not for kids   \n",
      "3  Grandson became board with what it offers. Plu...  Good for young kids   \n",
      "\n",
      "    Username  \n",
      "0      Bubba  \n",
      "1      skeet  \n",
      "2  Kidsphone  \n",
      "3    Shannon  \n"
     ]
    }
   ],
   "source": [
    "kp['ReviewDateSeen'] = kp['ReviewDateSeen'].str.split(',',expand = True).apply(lambda x:x.str.strip())\n",
    "kp.ReviewDateSeen = pd.to_datetime(kp.ReviewDateSeen,dayfirst= True)   \n",
    "print(kp.head(4))"
   ]
  },
  {
   "cell_type": "markdown",
   "metadata": {},
   "source": [
    "# 4. Likert Scale Analysis\n",
    "\n",
    "### Net Promoter Score"
   ]
  },
  {
   "cell_type": "code",
   "execution_count": 14,
   "metadata": {},
   "outputs": [
    {
     "name": "stdout",
     "output_type": "stream",
     "text": [
      "76.94946974422957\n"
     ]
    }
   ],
   "source": [
    "import numpy as np\n",
    "promoters = sum(kp.Rating==5)\n",
    "passive = sum(kp.Rating == 4)\n",
    "detractors = sum(np.logical_and(kp.Rating >= 1, kp.Rating <=3))\n",
    "respondents = promoters+passive+detractors\n",
    "NPS_P = ((promoters - detractors)/respondents )*100\n",
    "print(NPS_P)"
   ]
  },
  {
   "cell_type": "markdown",
   "metadata": {},
   "source": [
    "Promters had a NPS of 80.324.\n",
    "\n",
    "\n",
    "This is the overall NPS of the product, however, let's visualize how the rating of KindlePaperWhite has changed over time"
   ]
  },
  {
   "cell_type": "code",
   "execution_count": 15,
   "metadata": {},
   "outputs": [
    {
     "name": "stdout",
     "output_type": "stream",
     "text": [
      "      index  Index                    ID                      Name  \\\n",
      "3204   3204  21017  AVphPmHuilAPnD_x3E5h  Amazon Kindle Paperwhite   \n",
      "3205   3205  21018  AVphPmHuilAPnD_x3E5h  Amazon Kindle Paperwhite   \n",
      "\n",
      "           ASINS   Brand Categories Manufacturer ReviewDate ReviewDateAdded  \\\n",
      "3204  B00IOY8XWQ  Amazon    Tablets       Amazon 2016-05-21             NaT   \n",
      "3205  B00IOY8XWQ  Amazon    Tablets       Amazon 2016-05-20             NaT   \n",
      "\n",
      "     ReviewDateSeen RecommendStatus  ReviewHelpful  Rating  \\\n",
      "3204     2017-08-31            True            0.0     4.0   \n",
      "3205     2017-08-31            True            1.0     5.0   \n",
      "\n",
      "                                              SourceURL  \\\n",
      "3204  http://reviews.bestbuy.com/3545/9302088/review...   \n",
      "3205  http://reviews.bestbuy.com/3545/9302088/review...   \n",
      "\n",
      "                                               Comments                 Title  \\\n",
      "3204  This is the first e-reader I've gotten and I L...  Great first e-reader   \n",
      "3205  I previously had a first edition paper white a...       Love the voyage   \n",
      "\n",
      "       Username  \n",
      "3204  lilypad23  \n",
      "3205     Laurde  \n"
     ]
    }
   ],
   "source": [
    "print(kp.tail(2))"
   ]
  },
  {
   "cell_type": "markdown",
   "metadata": {},
   "source": [
    "All dates are different, so we hae to calculate NPS for interval of 2 months Plot a line chart for the same"
   ]
  },
  {
   "cell_type": "markdown",
   "metadata": {},
   "source": [
    "###  Pivot Table for Promoter Score by Date"
   ]
  },
  {
   "cell_type": "code",
   "execution_count": 16,
   "metadata": {},
   "outputs": [
    {
     "name": "stdout",
     "output_type": "stream",
     "text": [
      "     ReviewDate  Rating\n",
      "3201 2016-05-24     4.0\n",
      "3202 2016-05-23     5.0\n",
      "3203 2016-05-22     4.0\n",
      "3204 2016-05-21     4.0\n",
      "3205 2016-05-20     5.0\n",
      "(3206, 2)\n"
     ]
    }
   ],
   "source": [
    "review_date = kp.ReviewDate\n",
    "rating = kp.Rating\n",
    "df_dr = pd.concat([review_date,rating],axis = 1)\n",
    "print(df_dr.tail(5))\n",
    "print(df_dr.shape)"
   ]
  },
  {
   "cell_type": "code",
   "execution_count": 17,
   "metadata": {},
   "outputs": [
    {
     "name": "stdout",
     "output_type": "stream",
     "text": [
      "Rating\n",
      "1.0     1\n",
      "2.0     0\n",
      "3.0     1\n",
      "4.0     5\n",
      "5.0    11\n",
      "Name: 2017-02-04 00:00:00, dtype: int64\n"
     ]
    }
   ],
   "source": [
    "df_dr = df_dr.groupby(['ReviewDate','Rating']).size().unstack(fill_value = 0)\n",
    "print(df_dr.loc['2017-02-04'])\n"
   ]
  },
  {
   "cell_type": "code",
   "execution_count": 18,
   "metadata": {},
   "outputs": [
    {
     "name": "stdout",
     "output_type": "stream",
     "text": [
      "Rating      1.0  2.0  3.0  4.0  5.0\n",
      "ReviewDate                         \n",
      "2015-07-03    0    0    0    0   10\n",
      "2015-07-04    0    0    0    0    1\n",
      "2015-07-05    0    0    0    0    1\n",
      "2015-07-06    0    0    0    0    2\n",
      "2015-07-08    0    0    0    1    3\n"
     ]
    }
   ],
   "source": [
    "print(df_dr.head(5))"
   ]
  },
  {
   "cell_type": "markdown",
   "metadata": {},
   "source": [
    "So we  now have rating distribution by date, let's now calculate the sum of ratings for 1,2 and 3 for each date,and finally add a new column to the df, while deleting 1,2,3"
   ]
  },
  {
   "cell_type": "code",
   "execution_count": 19,
   "metadata": {},
   "outputs": [
    {
     "data": {
      "text/html": [
       "<div>\n",
       "<style scoped>\n",
       "    .dataframe tbody tr th:only-of-type {\n",
       "        vertical-align: middle;\n",
       "    }\n",
       "\n",
       "    .dataframe tbody tr th {\n",
       "        vertical-align: top;\n",
       "    }\n",
       "\n",
       "    .dataframe thead th {\n",
       "        text-align: right;\n",
       "    }\n",
       "</style>\n",
       "<table border=\"1\" class=\"dataframe\">\n",
       "  <thead>\n",
       "    <tr style=\"text-align: right;\">\n",
       "      <th></th>\n",
       "      <th>A</th>\n",
       "      <th>B</th>\n",
       "      <th>C</th>\n",
       "      <th>Passive</th>\n",
       "      <th>Promoters</th>\n",
       "      <th>Detractors</th>\n",
       "    </tr>\n",
       "    <tr>\n",
       "      <th>ReviewDate</th>\n",
       "      <th></th>\n",
       "      <th></th>\n",
       "      <th></th>\n",
       "      <th></th>\n",
       "      <th></th>\n",
       "      <th></th>\n",
       "    </tr>\n",
       "  </thead>\n",
       "  <tbody>\n",
       "    <tr>\n",
       "      <th>2015-07-03</th>\n",
       "      <td>0</td>\n",
       "      <td>0</td>\n",
       "      <td>0</td>\n",
       "      <td>0</td>\n",
       "      <td>10</td>\n",
       "      <td>0</td>\n",
       "    </tr>\n",
       "    <tr>\n",
       "      <th>2015-07-04</th>\n",
       "      <td>0</td>\n",
       "      <td>0</td>\n",
       "      <td>0</td>\n",
       "      <td>0</td>\n",
       "      <td>1</td>\n",
       "      <td>0</td>\n",
       "    </tr>\n",
       "    <tr>\n",
       "      <th>2015-07-05</th>\n",
       "      <td>0</td>\n",
       "      <td>0</td>\n",
       "      <td>0</td>\n",
       "      <td>0</td>\n",
       "      <td>1</td>\n",
       "      <td>0</td>\n",
       "    </tr>\n",
       "    <tr>\n",
       "      <th>2015-07-06</th>\n",
       "      <td>0</td>\n",
       "      <td>0</td>\n",
       "      <td>0</td>\n",
       "      <td>0</td>\n",
       "      <td>2</td>\n",
       "      <td>0</td>\n",
       "    </tr>\n",
       "    <tr>\n",
       "      <th>2015-07-08</th>\n",
       "      <td>0</td>\n",
       "      <td>0</td>\n",
       "      <td>0</td>\n",
       "      <td>1</td>\n",
       "      <td>3</td>\n",
       "      <td>0</td>\n",
       "    </tr>\n",
       "  </tbody>\n",
       "</table>\n",
       "</div>"
      ],
      "text/plain": [
       "            A  B  C  Passive  Promoters  Detractors\n",
       "ReviewDate                                         \n",
       "2015-07-03  0  0  0        0         10           0\n",
       "2015-07-04  0  0  0        0          1           0\n",
       "2015-07-05  0  0  0        0          1           0\n",
       "2015-07-06  0  0  0        0          2           0\n",
       "2015-07-08  0  0  0        1          3           0"
      ]
     },
     "execution_count": 19,
     "metadata": {},
     "output_type": "execute_result"
    }
   ],
   "source": [
    "df_dr.columns = ['A','B','C','Passive','Promoters']\n",
    "df_dr['Detractors'] = df_dr['A'] + df_dr['B'] + df_dr['C']\n",
    "df_dr.head(5)"
   ]
  },
  {
   "cell_type": "code",
   "execution_count": 20,
   "metadata": {},
   "outputs": [
    {
     "name": "stdout",
     "output_type": "stream",
     "text": [
      "            Passive  Promoters  Detractors\n",
      "ReviewDate                                \n",
      "2015-07-03        0         10           0\n",
      "2015-07-04        0          1           0\n",
      "2015-07-05        0          1           0\n",
      "2015-07-06        0          2           0\n",
      "2015-07-08        1          3           0\n"
     ]
    }
   ],
   "source": [
    "df_dr = df_dr.drop(labels = ['A','B','C'],axis = 1)\n",
    "print(df_dr.head(5))"
   ]
  },
  {
   "cell_type": "code",
   "execution_count": 21,
   "metadata": {},
   "outputs": [
    {
     "name": "stdout",
     "output_type": "stream",
     "text": [
      "            Passive  Promoters  Detractors    NPS\n",
      "ReviewDate                                       \n",
      "2015-07-03        0         10           0  100.0\n",
      "2015-07-04        0          1           0  100.0\n",
      "2015-07-05        0          1           0  100.0\n",
      "2015-07-06        0          2           0  100.0\n",
      "2015-07-08        1          3           0   75.0\n"
     ]
    }
   ],
   "source": [
    "df_dr['NPS'] = (df_dr['Promoters'] - df_dr['Detractors']) * 100 / (df_dr['Passive'] + df_dr['Promoters'] + df_dr['Detractors'])\n",
    "print(df_dr.head(5))"
   ]
  },
  {
   "cell_type": "code",
   "execution_count": 22,
   "metadata": {},
   "outputs": [
    {
     "data": {
      "text/plain": [
       "(628, 4)"
      ]
     },
     "execution_count": 22,
     "metadata": {},
     "output_type": "execute_result"
    }
   ],
   "source": [
    "df_dr.shape"
   ]
  },
  {
   "cell_type": "markdown",
   "metadata": {},
   "source": [
    "# 5. Feature Engineering  \n",
    "# 6. Sentiment Analysis - NLTK to find Compound Score"
   ]
  },
  {
   "cell_type": "code",
   "execution_count": 23,
   "metadata": {},
   "outputs": [
    {
     "data": {
      "text/html": [
       "<div>\n",
       "<style scoped>\n",
       "    .dataframe tbody tr th:only-of-type {\n",
       "        vertical-align: middle;\n",
       "    }\n",
       "\n",
       "    .dataframe tbody tr th {\n",
       "        vertical-align: top;\n",
       "    }\n",
       "\n",
       "    .dataframe thead th {\n",
       "        text-align: right;\n",
       "    }\n",
       "</style>\n",
       "<table border=\"1\" class=\"dataframe\">\n",
       "  <thead>\n",
       "    <tr style=\"text-align: right;\">\n",
       "      <th></th>\n",
       "      <th>index</th>\n",
       "      <th>Index</th>\n",
       "      <th>ID</th>\n",
       "      <th>Name</th>\n",
       "      <th>ASINS</th>\n",
       "      <th>Brand</th>\n",
       "      <th>Categories</th>\n",
       "      <th>Manufacturer</th>\n",
       "      <th>ReviewDate</th>\n",
       "      <th>ReviewDateAdded</th>\n",
       "      <th>ReviewDateSeen</th>\n",
       "      <th>RecommendStatus</th>\n",
       "      <th>ReviewHelpful</th>\n",
       "      <th>Rating</th>\n",
       "      <th>SourceURL</th>\n",
       "      <th>Comments</th>\n",
       "      <th>Title</th>\n",
       "      <th>Username</th>\n",
       "    </tr>\n",
       "  </thead>\n",
       "  <tbody>\n",
       "    <tr>\n",
       "      <th>0</th>\n",
       "      <td>0</td>\n",
       "      <td>17216</td>\n",
       "      <td>AVqVGWLKnnc1JgDc3jF1</td>\n",
       "      <td>Amazon Kindle Paperwhite</td>\n",
       "      <td>B018Y23MNM</td>\n",
       "      <td>Amazon</td>\n",
       "      <td>Tablets</td>\n",
       "      <td>Amazon</td>\n",
       "      <td>2017-02-05</td>\n",
       "      <td>2017-06-21 07:38:39</td>\n",
       "      <td>2017-06-04 02:18:03.660</td>\n",
       "      <td>True</td>\n",
       "      <td>0.0</td>\n",
       "      <td>5.0</td>\n",
       "      <td>http://reviews.bestbuy.com/3545/5026300/review...</td>\n",
       "      <td>Was a gift for our 8 year old daughter. Great ...</td>\n",
       "      <td>Great for kids</td>\n",
       "      <td>Bubba</td>\n",
       "    </tr>\n",
       "    <tr>\n",
       "      <th>1</th>\n",
       "      <td>1</td>\n",
       "      <td>17217</td>\n",
       "      <td>AVqVGWLKnnc1JgDc3jF1</td>\n",
       "      <td>Amazon Kindle Paperwhite</td>\n",
       "      <td>B018Y23MNM</td>\n",
       "      <td>Amazon</td>\n",
       "      <td>Tablets</td>\n",
       "      <td>Amazon</td>\n",
       "      <td>2017-02-05</td>\n",
       "      <td>2017-06-21 07:38:39</td>\n",
       "      <td>2017-06-04 02:18:03.660</td>\n",
       "      <td>True</td>\n",
       "      <td>0.0</td>\n",
       "      <td>5.0</td>\n",
       "      <td>http://reviews.bestbuy.com/3545/5026300/review...</td>\n",
       "      <td>my grandkids love it. This is the 3 one we bou...</td>\n",
       "      <td>kids love it</td>\n",
       "      <td>skeet</td>\n",
       "    </tr>\n",
       "  </tbody>\n",
       "</table>\n",
       "</div>"
      ],
      "text/plain": [
       "   index  Index                    ID                      Name       ASINS  \\\n",
       "0      0  17216  AVqVGWLKnnc1JgDc3jF1  Amazon Kindle Paperwhite  B018Y23MNM   \n",
       "1      1  17217  AVqVGWLKnnc1JgDc3jF1  Amazon Kindle Paperwhite  B018Y23MNM   \n",
       "\n",
       "    Brand Categories Manufacturer ReviewDate     ReviewDateAdded  \\\n",
       "0  Amazon    Tablets       Amazon 2017-02-05 2017-06-21 07:38:39   \n",
       "1  Amazon    Tablets       Amazon 2017-02-05 2017-06-21 07:38:39   \n",
       "\n",
       "           ReviewDateSeen RecommendStatus  ReviewHelpful  Rating  \\\n",
       "0 2017-06-04 02:18:03.660            True            0.0     5.0   \n",
       "1 2017-06-04 02:18:03.660            True            0.0     5.0   \n",
       "\n",
       "                                           SourceURL  \\\n",
       "0  http://reviews.bestbuy.com/3545/5026300/review...   \n",
       "1  http://reviews.bestbuy.com/3545/5026300/review...   \n",
       "\n",
       "                                            Comments           Title Username  \n",
       "0  Was a gift for our 8 year old daughter. Great ...  Great for kids    Bubba  \n",
       "1  my grandkids love it. This is the 3 one we bou...    kids love it    skeet  "
      ]
     },
     "execution_count": 23,
     "metadata": {},
     "output_type": "execute_result"
    }
   ],
   "source": [
    "kp.Name.nunique()\n",
    "kp.head(2)\n",
    "    "
   ]
  },
  {
   "cell_type": "markdown",
   "metadata": {},
   "source": [
    "#### Columns to Remove : Index - ID - Name - ASINS - Brand - ReviewDateAdded - ReviewDateSeen - SourceURL"
   ]
  },
  {
   "cell_type": "code",
   "execution_count": 24,
   "metadata": {
    "scrolled": true
   },
   "outputs": [
    {
     "data": {
      "text/html": [
       "<div>\n",
       "<style scoped>\n",
       "    .dataframe tbody tr th:only-of-type {\n",
       "        vertical-align: middle;\n",
       "    }\n",
       "\n",
       "    .dataframe tbody tr th {\n",
       "        vertical-align: top;\n",
       "    }\n",
       "\n",
       "    .dataframe thead th {\n",
       "        text-align: right;\n",
       "    }\n",
       "</style>\n",
       "<table border=\"1\" class=\"dataframe\">\n",
       "  <thead>\n",
       "    <tr style=\"text-align: right;\">\n",
       "      <th></th>\n",
       "      <th>level_0</th>\n",
       "      <th>index</th>\n",
       "      <th>ReviewDate</th>\n",
       "      <th>RecommendStatus</th>\n",
       "      <th>ReviewHelpful</th>\n",
       "      <th>Rating</th>\n",
       "      <th>Comments</th>\n",
       "      <th>Title</th>\n",
       "      <th>Username</th>\n",
       "    </tr>\n",
       "  </thead>\n",
       "  <tbody>\n",
       "    <tr>\n",
       "      <th>0</th>\n",
       "      <td>0</td>\n",
       "      <td>0</td>\n",
       "      <td>2017-02-05</td>\n",
       "      <td>True</td>\n",
       "      <td>0.0</td>\n",
       "      <td>5.0</td>\n",
       "      <td>Was a gift for our 8 year old daughter. Great ...</td>\n",
       "      <td>Great for kids</td>\n",
       "      <td>Bubba</td>\n",
       "    </tr>\n",
       "    <tr>\n",
       "      <th>1</th>\n",
       "      <td>1</td>\n",
       "      <td>1</td>\n",
       "      <td>2017-02-05</td>\n",
       "      <td>True</td>\n",
       "      <td>0.0</td>\n",
       "      <td>5.0</td>\n",
       "      <td>my grandkids love it. This is the 3 one we bou...</td>\n",
       "      <td>kids love it</td>\n",
       "      <td>skeet</td>\n",
       "    </tr>\n",
       "    <tr>\n",
       "      <th>2</th>\n",
       "      <td>2</td>\n",
       "      <td>2</td>\n",
       "      <td>2017-02-05</td>\n",
       "      <td>True</td>\n",
       "      <td>0.0</td>\n",
       "      <td>3.0</td>\n",
       "      <td>Great case ok tablet no Android play store. We...</td>\n",
       "      <td>Tablet not for kids</td>\n",
       "      <td>Kidsphone</td>\n",
       "    </tr>\n",
       "    <tr>\n",
       "      <th>3</th>\n",
       "      <td>3</td>\n",
       "      <td>3</td>\n",
       "      <td>2017-02-04</td>\n",
       "      <td>True</td>\n",
       "      <td>0.0</td>\n",
       "      <td>3.0</td>\n",
       "      <td>Grandson became board with what it offers. Plu...</td>\n",
       "      <td>Good for young kids</td>\n",
       "      <td>Shannon</td>\n",
       "    </tr>\n",
       "    <tr>\n",
       "      <th>4</th>\n",
       "      <td>4</td>\n",
       "      <td>4</td>\n",
       "      <td>2017-02-04</td>\n",
       "      <td>False</td>\n",
       "      <td>0.0</td>\n",
       "      <td>1.0</td>\n",
       "      <td>This product wouldn't turn on nor charge and t...</td>\n",
       "      <td>Product Issues</td>\n",
       "      <td>FitnessBuff</td>\n",
       "    </tr>\n",
       "  </tbody>\n",
       "</table>\n",
       "</div>"
      ],
      "text/plain": [
       "   level_0  index ReviewDate RecommendStatus  ReviewHelpful  Rating  \\\n",
       "0        0      0 2017-02-05            True            0.0     5.0   \n",
       "1        1      1 2017-02-05            True            0.0     5.0   \n",
       "2        2      2 2017-02-05            True            0.0     3.0   \n",
       "3        3      3 2017-02-04            True            0.0     3.0   \n",
       "4        4      4 2017-02-04           False            0.0     1.0   \n",
       "\n",
       "                                            Comments                Title  \\\n",
       "0  Was a gift for our 8 year old daughter. Great ...       Great for kids   \n",
       "1  my grandkids love it. This is the 3 one we bou...         kids love it   \n",
       "2  Great case ok tablet no Android play store. We...  Tablet not for kids   \n",
       "3  Grandson became board with what it offers. Plu...  Good for young kids   \n",
       "4  This product wouldn't turn on nor charge and t...       Product Issues   \n",
       "\n",
       "      Username  \n",
       "0        Bubba  \n",
       "1        skeet  \n",
       "2    Kidsphone  \n",
       "3      Shannon  \n",
       "4  FitnessBuff  "
      ]
     },
     "execution_count": 24,
     "metadata": {},
     "output_type": "execute_result"
    }
   ],
   "source": [
    "data =  kp.drop(['Index','ID','Name','ASINS','Brand','Categories','Manufacturer','ReviewDateAdded','ReviewDateSeen','SourceURL'], axis = 1)\n",
    "# Cleaned Dataset Now becomes\n",
    "data = data.reset_index()\n",
    "data.head(5)\n"
   ]
  },
  {
   "cell_type": "code",
   "execution_count": 25,
   "metadata": {},
   "outputs": [
    {
     "data": {
      "text/plain": [
       "Index(['level_0', 'index', 'RecommendStatus', 'ReviewHelpful', 'Rating',\n",
       "       'Comments', 'Title', 'Username'],\n",
       "      dtype='object')"
      ]
     },
     "execution_count": 25,
     "metadata": {},
     "output_type": "execute_result"
    }
   ],
   "source": [
    "data = data.drop(['ReviewDate'], axis = 1)\n",
    "data.columns"
   ]
  },
  {
   "cell_type": "markdown",
   "metadata": {},
   "source": [
    "#### Changing RecommendStatus from True/False to Recommend/Not Recommend"
   ]
  },
  {
   "cell_type": "code",
   "execution_count": 26,
   "metadata": {},
   "outputs": [
    {
     "data": {
      "text/html": [
       "<div>\n",
       "<style scoped>\n",
       "    .dataframe tbody tr th:only-of-type {\n",
       "        vertical-align: middle;\n",
       "    }\n",
       "\n",
       "    .dataframe tbody tr th {\n",
       "        vertical-align: top;\n",
       "    }\n",
       "\n",
       "    .dataframe thead th {\n",
       "        text-align: right;\n",
       "    }\n",
       "</style>\n",
       "<table border=\"1\" class=\"dataframe\">\n",
       "  <thead>\n",
       "    <tr style=\"text-align: right;\">\n",
       "      <th></th>\n",
       "      <th>level_0</th>\n",
       "      <th>index</th>\n",
       "      <th>RecommendStatus</th>\n",
       "      <th>ReviewHelpful</th>\n",
       "      <th>Rating</th>\n",
       "      <th>Comments</th>\n",
       "      <th>Title</th>\n",
       "      <th>Username</th>\n",
       "    </tr>\n",
       "  </thead>\n",
       "  <tbody>\n",
       "    <tr>\n",
       "      <th>0</th>\n",
       "      <td>0</td>\n",
       "      <td>0</td>\n",
       "      <td>Recommend</td>\n",
       "      <td>0.0</td>\n",
       "      <td>5.0</td>\n",
       "      <td>Was a gift for our 8 year old daughter. Great ...</td>\n",
       "      <td>Great for kids</td>\n",
       "      <td>Bubba</td>\n",
       "    </tr>\n",
       "    <tr>\n",
       "      <th>1</th>\n",
       "      <td>1</td>\n",
       "      <td>1</td>\n",
       "      <td>Recommend</td>\n",
       "      <td>0.0</td>\n",
       "      <td>5.0</td>\n",
       "      <td>my grandkids love it. This is the 3 one we bou...</td>\n",
       "      <td>kids love it</td>\n",
       "      <td>skeet</td>\n",
       "    </tr>\n",
       "    <tr>\n",
       "      <th>2</th>\n",
       "      <td>2</td>\n",
       "      <td>2</td>\n",
       "      <td>Recommend</td>\n",
       "      <td>0.0</td>\n",
       "      <td>3.0</td>\n",
       "      <td>Great case ok tablet no Android play store. We...</td>\n",
       "      <td>Tablet not for kids</td>\n",
       "      <td>Kidsphone</td>\n",
       "    </tr>\n",
       "    <tr>\n",
       "      <th>3</th>\n",
       "      <td>3</td>\n",
       "      <td>3</td>\n",
       "      <td>Recommend</td>\n",
       "      <td>0.0</td>\n",
       "      <td>3.0</td>\n",
       "      <td>Grandson became board with what it offers. Plu...</td>\n",
       "      <td>Good for young kids</td>\n",
       "      <td>Shannon</td>\n",
       "    </tr>\n",
       "    <tr>\n",
       "      <th>4</th>\n",
       "      <td>4</td>\n",
       "      <td>4</td>\n",
       "      <td>Not Recommend</td>\n",
       "      <td>0.0</td>\n",
       "      <td>1.0</td>\n",
       "      <td>This product wouldn't turn on nor charge and t...</td>\n",
       "      <td>Product Issues</td>\n",
       "      <td>FitnessBuff</td>\n",
       "    </tr>\n",
       "  </tbody>\n",
       "</table>\n",
       "</div>"
      ],
      "text/plain": [
       "   level_0  index RecommendStatus  ReviewHelpful  Rating  \\\n",
       "0        0      0       Recommend            0.0     5.0   \n",
       "1        1      1       Recommend            0.0     5.0   \n",
       "2        2      2       Recommend            0.0     3.0   \n",
       "3        3      3       Recommend            0.0     3.0   \n",
       "4        4      4   Not Recommend            0.0     1.0   \n",
       "\n",
       "                                            Comments                Title  \\\n",
       "0  Was a gift for our 8 year old daughter. Great ...       Great for kids   \n",
       "1  my grandkids love it. This is the 3 one we bou...         kids love it   \n",
       "2  Great case ok tablet no Android play store. We...  Tablet not for kids   \n",
       "3  Grandson became board with what it offers. Plu...  Good for young kids   \n",
       "4  This product wouldn't turn on nor charge and t...       Product Issues   \n",
       "\n",
       "      Username  \n",
       "0        Bubba  \n",
       "1        skeet  \n",
       "2    Kidsphone  \n",
       "3      Shannon  \n",
       "4  FitnessBuff  "
      ]
     },
     "execution_count": 26,
     "metadata": {},
     "output_type": "execute_result"
    }
   ],
   "source": [
    "def status(data):\n",
    "    if(data == True):\n",
    "        data = \"Recommend\"\n",
    "        return data\n",
    "    else:\n",
    "        data = \"Not Recommend\"\n",
    "        return data\n",
    "    \n",
    "data['RecommendStatus'] = pd.DataFrame(data['RecommendStatus'].apply(lambda x : status(x)))\n",
    "data.head(5)\n",
    "    "
   ]
  },
  {
   "cell_type": "code",
   "execution_count": 27,
   "metadata": {
    "scrolled": true
   },
   "outputs": [],
   "source": [
    "from random import seed\n",
    "from random import randrange\n",
    "\n",
    "\n",
    "\n",
    "def status(data):\n",
    "    if(data == \"Recommend\"):\n",
    "        data = 1\n",
    "        return data\n",
    "    else:\n",
    "        data = 0\n",
    "        return data\n",
    "    \n",
    "data['RNum'] = pd.DataFrame(data['RecommendStatus'].apply(lambda x : status(x)))"
   ]
  },
  {
   "cell_type": "code",
   "execution_count": 28,
   "metadata": {},
   "outputs": [],
   "source": [
    "dsa = data\n",
    "dsa['feedback'] = dsa['Comments'] + dsa['Title']\n",
    "dsa = dsa.drop(['Comments','Title'], axis = 1)\n"
   ]
  },
  {
   "cell_type": "code",
   "execution_count": 29,
   "metadata": {
    "scrolled": true
   },
   "outputs": [
    {
     "data": {
      "text/html": [
       "<div>\n",
       "<style scoped>\n",
       "    .dataframe tbody tr th:only-of-type {\n",
       "        vertical-align: middle;\n",
       "    }\n",
       "\n",
       "    .dataframe tbody tr th {\n",
       "        vertical-align: top;\n",
       "    }\n",
       "\n",
       "    .dataframe thead th {\n",
       "        text-align: right;\n",
       "    }\n",
       "</style>\n",
       "<table border=\"1\" class=\"dataframe\">\n",
       "  <thead>\n",
       "    <tr style=\"text-align: right;\">\n",
       "      <th></th>\n",
       "      <th>level_0</th>\n",
       "      <th>index</th>\n",
       "      <th>RecommendStatus</th>\n",
       "      <th>ReviewHelpful</th>\n",
       "      <th>Rating</th>\n",
       "      <th>Username</th>\n",
       "      <th>RNum</th>\n",
       "      <th>feedback</th>\n",
       "    </tr>\n",
       "  </thead>\n",
       "  <tbody>\n",
       "    <tr>\n",
       "      <th>0</th>\n",
       "      <td>0</td>\n",
       "      <td>0</td>\n",
       "      <td>Recommend</td>\n",
       "      <td>0.0</td>\n",
       "      <td>5.0</td>\n",
       "      <td>Bubba</td>\n",
       "      <td>1</td>\n",
       "      <td>Was a gift for our 8 year old daughter. Great ...</td>\n",
       "    </tr>\n",
       "    <tr>\n",
       "      <th>1</th>\n",
       "      <td>1</td>\n",
       "      <td>1</td>\n",
       "      <td>Recommend</td>\n",
       "      <td>0.0</td>\n",
       "      <td>5.0</td>\n",
       "      <td>skeet</td>\n",
       "      <td>1</td>\n",
       "      <td>my grandkids love it. This is the 3 one we bou...</td>\n",
       "    </tr>\n",
       "    <tr>\n",
       "      <th>2</th>\n",
       "      <td>2</td>\n",
       "      <td>2</td>\n",
       "      <td>Recommend</td>\n",
       "      <td>0.0</td>\n",
       "      <td>3.0</td>\n",
       "      <td>Kidsphone</td>\n",
       "      <td>1</td>\n",
       "      <td>Great case ok tablet no Android play store. We...</td>\n",
       "    </tr>\n",
       "    <tr>\n",
       "      <th>3</th>\n",
       "      <td>3</td>\n",
       "      <td>3</td>\n",
       "      <td>Recommend</td>\n",
       "      <td>0.0</td>\n",
       "      <td>3.0</td>\n",
       "      <td>Shannon</td>\n",
       "      <td>1</td>\n",
       "      <td>Grandson became board with what it offers. Plu...</td>\n",
       "    </tr>\n",
       "    <tr>\n",
       "      <th>4</th>\n",
       "      <td>4</td>\n",
       "      <td>4</td>\n",
       "      <td>Not Recommend</td>\n",
       "      <td>0.0</td>\n",
       "      <td>1.0</td>\n",
       "      <td>FitnessBuff</td>\n",
       "      <td>0</td>\n",
       "      <td>This product wouldn't turn on nor charge and t...</td>\n",
       "    </tr>\n",
       "  </tbody>\n",
       "</table>\n",
       "</div>"
      ],
      "text/plain": [
       "   level_0  index RecommendStatus  ReviewHelpful  Rating     Username  RNum  \\\n",
       "0        0      0       Recommend            0.0     5.0        Bubba     1   \n",
       "1        1      1       Recommend            0.0     5.0        skeet     1   \n",
       "2        2      2       Recommend            0.0     3.0    Kidsphone     1   \n",
       "3        3      3       Recommend            0.0     3.0      Shannon     1   \n",
       "4        4      4   Not Recommend            0.0     1.0  FitnessBuff     0   \n",
       "\n",
       "                                            feedback  \n",
       "0  Was a gift for our 8 year old daughter. Great ...  \n",
       "1  my grandkids love it. This is the 3 one we bou...  \n",
       "2  Great case ok tablet no Android play store. We...  \n",
       "3  Grandson became board with what it offers. Plu...  \n",
       "4  This product wouldn't turn on nor charge and t...  "
      ]
     },
     "execution_count": 29,
     "metadata": {},
     "output_type": "execute_result"
    }
   ],
   "source": [
    "dsa.head(5)"
   ]
  },
  {
   "cell_type": "code",
   "execution_count": 30,
   "metadata": {},
   "outputs": [
    {
     "data": {
      "text/plain": [
       "Recommend        3140\n",
       "Not Recommend      66\n",
       "Name: RecommendStatus, dtype: int64"
      ]
     },
     "execution_count": 30,
     "metadata": {},
     "output_type": "execute_result"
    }
   ],
   "source": [
    "dsa.RecommendStatus.value_counts()"
   ]
  },
  {
   "cell_type": "markdown",
   "metadata": {},
   "source": [
    "### Base Classifier"
   ]
  },
  {
   "cell_type": "code",
   "execution_count": 31,
   "metadata": {
    "scrolled": true
   },
   "outputs": [],
   "source": [
    "# def zero_rule_algorithm_classification(train,test):\n",
    "#     output_values = [row[-1] for row in train]\n",
    "#     prediction = max(set(output_values), key=output_values.count)\n",
    "#     predicted = [prediction for i in range(len(train))]\n",
    "#     return predicted\n",
    "\n",
    "\n",
    "# t_length = len(dsa.RNum)\n",
    "# train = dsa.RNum[0:2565]\n",
    "# train = train.tolist()\n",
    "# test_length = len(dsa.RNum) - 2565\n",
    "# test = dsa.RecommendStatus[2565: 2566+test_length]\n",
    "# test = test.tolist()\n",
    "# predictions = zero_rule_algorithm_classification(train, test)\n",
    "# print(predictions)"
   ]
  },
  {
   "cell_type": "markdown",
   "metadata": {},
   "source": [
    "#### Feature for Compound Score (using Sentiment Analysis)"
   ]
  },
  {
   "cell_type": "code",
   "execution_count": 32,
   "metadata": {},
   "outputs": [
    {
     "name": "stderr",
     "output_type": "stream",
     "text": [
      "/anaconda3/lib/python3.6/site-packages/nltk/twitter/__init__.py:20: UserWarning: The twython library has not been installed. Some functionality from the twitter package will not be available.\n",
      "  warnings.warn(\"The twython library has not been installed. \"\n"
     ]
    }
   ],
   "source": [
    "import nltk\n",
    "from nltk.sentiment.vader import SentimentIntensityAnalyzer\n",
    "sid = SentimentIntensityAnalyzer()\n",
    "\n",
    "def polar_score(text):\n",
    "    score = sid.polarity_scores(text)\n",
    "    x = score['compound']\n",
    "    return x\n",
    "\n",
    "\n",
    "dsa['Compound_Score'] = dsa['feedback'].apply(lambda x : polar_score(x))"
   ]
  },
  {
   "cell_type": "code",
   "execution_count": 33,
   "metadata": {
    "scrolled": true
   },
   "outputs": [
    {
     "data": {
      "text/html": [
       "<div>\n",
       "<style scoped>\n",
       "    .dataframe tbody tr th:only-of-type {\n",
       "        vertical-align: middle;\n",
       "    }\n",
       "\n",
       "    .dataframe tbody tr th {\n",
       "        vertical-align: top;\n",
       "    }\n",
       "\n",
       "    .dataframe thead th {\n",
       "        text-align: right;\n",
       "    }\n",
       "</style>\n",
       "<table border=\"1\" class=\"dataframe\">\n",
       "  <thead>\n",
       "    <tr style=\"text-align: right;\">\n",
       "      <th></th>\n",
       "      <th>level_0</th>\n",
       "      <th>index</th>\n",
       "      <th>RecommendStatus</th>\n",
       "      <th>ReviewHelpful</th>\n",
       "      <th>Rating</th>\n",
       "      <th>Username</th>\n",
       "      <th>RNum</th>\n",
       "      <th>feedback</th>\n",
       "      <th>Compound_Score</th>\n",
       "    </tr>\n",
       "  </thead>\n",
       "  <tbody>\n",
       "    <tr>\n",
       "      <th>0</th>\n",
       "      <td>0</td>\n",
       "      <td>0</td>\n",
       "      <td>Recommend</td>\n",
       "      <td>0.0</td>\n",
       "      <td>5.0</td>\n",
       "      <td>Bubba</td>\n",
       "      <td>1</td>\n",
       "      <td>Was a gift for our 8 year old daughter. Great ...</td>\n",
       "      <td>0.7906</td>\n",
       "    </tr>\n",
       "    <tr>\n",
       "      <th>1</th>\n",
       "      <td>1</td>\n",
       "      <td>1</td>\n",
       "      <td>Recommend</td>\n",
       "      <td>0.0</td>\n",
       "      <td>5.0</td>\n",
       "      <td>skeet</td>\n",
       "      <td>1</td>\n",
       "      <td>my grandkids love it. This is the 3 one we bou...</td>\n",
       "      <td>0.8555</td>\n",
       "    </tr>\n",
       "    <tr>\n",
       "      <th>2</th>\n",
       "      <td>2</td>\n",
       "      <td>2</td>\n",
       "      <td>Recommend</td>\n",
       "      <td>0.0</td>\n",
       "      <td>3.0</td>\n",
       "      <td>Kidsphone</td>\n",
       "      <td>1</td>\n",
       "      <td>Great case ok tablet no Android play store. We...</td>\n",
       "      <td>0.9457</td>\n",
       "    </tr>\n",
       "    <tr>\n",
       "      <th>3</th>\n",
       "      <td>3</td>\n",
       "      <td>3</td>\n",
       "      <td>Recommend</td>\n",
       "      <td>0.0</td>\n",
       "      <td>3.0</td>\n",
       "      <td>Shannon</td>\n",
       "      <td>1</td>\n",
       "      <td>Grandson became board with what it offers. Plu...</td>\n",
       "      <td>0.0000</td>\n",
       "    </tr>\n",
       "    <tr>\n",
       "      <th>4</th>\n",
       "      <td>4</td>\n",
       "      <td>4</td>\n",
       "      <td>Not Recommend</td>\n",
       "      <td>0.0</td>\n",
       "      <td>1.0</td>\n",
       "      <td>FitnessBuff</td>\n",
       "      <td>0</td>\n",
       "      <td>This product wouldn't turn on nor charge and t...</td>\n",
       "      <td>0.0000</td>\n",
       "    </tr>\n",
       "  </tbody>\n",
       "</table>\n",
       "</div>"
      ],
      "text/plain": [
       "   level_0  index RecommendStatus  ReviewHelpful  Rating     Username  RNum  \\\n",
       "0        0      0       Recommend            0.0     5.0        Bubba     1   \n",
       "1        1      1       Recommend            0.0     5.0        skeet     1   \n",
       "2        2      2       Recommend            0.0     3.0    Kidsphone     1   \n",
       "3        3      3       Recommend            0.0     3.0      Shannon     1   \n",
       "4        4      4   Not Recommend            0.0     1.0  FitnessBuff     0   \n",
       "\n",
       "                                            feedback  Compound_Score  \n",
       "0  Was a gift for our 8 year old daughter. Great ...          0.7906  \n",
       "1  my grandkids love it. This is the 3 one we bou...          0.8555  \n",
       "2  Great case ok tablet no Android play store. We...          0.9457  \n",
       "3  Grandson became board with what it offers. Plu...          0.0000  \n",
       "4  This product wouldn't turn on nor charge and t...          0.0000  "
      ]
     },
     "execution_count": 33,
     "metadata": {},
     "output_type": "execute_result"
    }
   ],
   "source": [
    "dsa.head(5)\n"
   ]
  },
  {
   "cell_type": "code",
   "execution_count": 34,
   "metadata": {},
   "outputs": [],
   "source": [
    "#df = df[['a', 'y', 'b', 'x']]\n",
    "dsa = dsa[['level_0','index','ReviewHelpful','Rating','Username','RNum','feedback','Compound_Score','RecommendStatus']]"
   ]
  },
  {
   "cell_type": "markdown",
   "metadata": {},
   "source": [
    "#### Feature for Text Length"
   ]
  },
  {
   "cell_type": "code",
   "execution_count": 35,
   "metadata": {},
   "outputs": [
    {
     "data": {
      "text/html": [
       "<div>\n",
       "<style scoped>\n",
       "    .dataframe tbody tr th:only-of-type {\n",
       "        vertical-align: middle;\n",
       "    }\n",
       "\n",
       "    .dataframe tbody tr th {\n",
       "        vertical-align: top;\n",
       "    }\n",
       "\n",
       "    .dataframe thead th {\n",
       "        text-align: right;\n",
       "    }\n",
       "</style>\n",
       "<table border=\"1\" class=\"dataframe\">\n",
       "  <thead>\n",
       "    <tr style=\"text-align: right;\">\n",
       "      <th></th>\n",
       "      <th>level_0</th>\n",
       "      <th>index</th>\n",
       "      <th>ReviewHelpful</th>\n",
       "      <th>Rating</th>\n",
       "      <th>Username</th>\n",
       "      <th>RNum</th>\n",
       "      <th>feedback</th>\n",
       "      <th>Compound_Score</th>\n",
       "      <th>RecommendStatus</th>\n",
       "      <th>length</th>\n",
       "    </tr>\n",
       "  </thead>\n",
       "  <tbody>\n",
       "    <tr>\n",
       "      <th>0</th>\n",
       "      <td>0</td>\n",
       "      <td>0</td>\n",
       "      <td>0.0</td>\n",
       "      <td>5.0</td>\n",
       "      <td>Bubba</td>\n",
       "      <td>1</td>\n",
       "      <td>Was a gift for our 8 year old daughter. Great ...</td>\n",
       "      <td>0.7906</td>\n",
       "      <td>Recommend</td>\n",
       "      <td>55</td>\n",
       "    </tr>\n",
       "    <tr>\n",
       "      <th>1</th>\n",
       "      <td>1</td>\n",
       "      <td>1</td>\n",
       "      <td>0.0</td>\n",
       "      <td>5.0</td>\n",
       "      <td>skeet</td>\n",
       "      <td>1</td>\n",
       "      <td>my grandkids love it. This is the 3 one we bou...</td>\n",
       "      <td>0.8555</td>\n",
       "      <td>Recommend</td>\n",
       "      <td>50</td>\n",
       "    </tr>\n",
       "  </tbody>\n",
       "</table>\n",
       "</div>"
      ],
      "text/plain": [
       "   level_0  index  ReviewHelpful  Rating Username  RNum  \\\n",
       "0        0      0            0.0     5.0    Bubba     1   \n",
       "1        1      1            0.0     5.0    skeet     1   \n",
       "\n",
       "                                            feedback  Compound_Score  \\\n",
       "0  Was a gift for our 8 year old daughter. Great ...          0.7906   \n",
       "1  my grandkids love it. This is the 3 one we bou...          0.8555   \n",
       "\n",
       "  RecommendStatus  length  \n",
       "0       Recommend      55  \n",
       "1       Recommend      50  "
      ]
     },
     "execution_count": 35,
     "metadata": {},
     "output_type": "execute_result"
    }
   ],
   "source": [
    "dsa['length'] = dsa['feedback'].apply(lambda x: len(x) - x.count(\" \"))\n",
    "dsa.head(2)"
   ]
  },
  {
   "cell_type": "markdown",
   "metadata": {},
   "source": [
    "# 7. Understanding the  Features added"
   ]
  },
  {
   "cell_type": "markdown",
   "metadata": {},
   "source": [
    "#### Ideally people who'll Not Recommend the product, would have a lot to say against the features of the product"
   ]
  },
  {
   "cell_type": "code",
   "execution_count": 36,
   "metadata": {},
   "outputs": [],
   "source": [
    "import numpy as np\n",
    "from matplotlib import pyplot\n",
    "%matplotlib inline"
   ]
  },
  {
   "cell_type": "code",
   "execution_count": 37,
   "metadata": {},
   "outputs": [
    {
     "name": "stderr",
     "output_type": "stream",
     "text": [
      "/anaconda3/lib/python3.6/site-packages/matplotlib/axes/_axes.py:6521: MatplotlibDeprecationWarning: \n",
      "The 'normed' kwarg was deprecated in Matplotlib 2.1 and will be removed in 3.1. Use 'density' instead.\n",
      "  alternative=\"'density'\", removal=\"3.1\")\n"
     ]
    },
    {
     "data": {
      "image/png": "[encoded data removed]",
      "text/plain": [
       "<Figure size 432x288 with 1 Axes>"
      ]
     },
     "metadata": {},
     "output_type": "display_data"
    }
   ],
   "source": [
    "bins = np.linspace(0,200,40)\n",
    "pyplot.hist(dsa[dsa['RecommendStatus'] == 'Not Recommend']['length'],bins,alpha  = 0.5,normed = True, label = 'Not Recommend')\n",
    "pyplot.hist(dsa[dsa['RecommendStatus'] == 'Recommend']['length'],bins,alpha = 0.5,normed = True, label = 'Recommend')\n",
    "pyplot.legend(loc = 'upper right')\n",
    "pyplot.show()"
   ]
  },
  {
   "cell_type": "code",
   "execution_count": 38,
   "metadata": {},
   "outputs": [
    {
     "data": {
      "text/plain": [
       "Recommend        3140\n",
       "Not Recommend      66\n",
       "Name: RecommendStatus, dtype: int64"
      ]
     },
     "execution_count": 38,
     "metadata": {},
     "output_type": "execute_result"
    }
   ],
   "source": [
    "dsa.RecommendStatus.value_counts()"
   ]
  },
  {
   "cell_type": "markdown",
   "metadata": {},
   "source": [
    "#### Above graph shows that our original hypothesis was correct"
   ]
  },
  {
   "cell_type": "markdown",
   "metadata": {},
   "source": [
    "# 8. Using TF-IDF and Random Forest to predict Recommendation Status"
   ]
  },
  {
   "cell_type": "code",
   "execution_count": 39,
   "metadata": {},
   "outputs": [],
   "source": [
    "import string\n",
    "import re\n",
    "stopword =  nltk.corpus.stopwords.words('english')\n",
    "ps = nltk.PorterStemmer()"
   ]
  },
  {
   "cell_type": "code",
   "execution_count": 40,
   "metadata": {},
   "outputs": [],
   "source": [
    "def clean(text):\n",
    "    no_punct = \"\".join([word.lower() for word in text if word not in string.punctuation])\n",
    "    tokens = re.split('\\W+',no_punct)\n",
    "    \n",
    "    text_stem = ([ps.stem(word) for word in tokens if word not in stopword])\n",
    "    return text_stem"
   ]
  },
  {
   "cell_type": "code",
   "execution_count": 41,
   "metadata": {},
   "outputs": [],
   "source": [
    "from sklearn.feature_extraction.text import TfidfVectorizer\n",
    "tf_idf = TfidfVectorizer(analyzer= clean)\n",
    "Xtf_idfVector = tf_idf.fit_transform(dsa['feedback'])"
   ]
  },
  {
   "cell_type": "markdown",
   "metadata": {},
   "source": [
    "#### New DataFrame having all the required features , the label we want to predict and the tf_idf vectorizer"
   ]
  },
  {
   "cell_type": "code",
   "execution_count": 42,
   "metadata": {},
   "outputs": [
    {
     "data": {
      "text/html": [
       "<div>\n",
       "<style scoped>\n",
       "    .dataframe tbody tr th:only-of-type {\n",
       "        vertical-align: middle;\n",
       "    }\n",
       "\n",
       "    .dataframe tbody tr th {\n",
       "        vertical-align: top;\n",
       "    }\n",
       "\n",
       "    .dataframe thead th {\n",
       "        text-align: right;\n",
       "    }\n",
       "</style>\n",
       "<table border=\"1\" class=\"dataframe\">\n",
       "  <thead>\n",
       "    <tr style=\"text-align: right;\">\n",
       "      <th></th>\n",
       "      <th>Compound_Score</th>\n",
       "      <th>length</th>\n",
       "      <th>0</th>\n",
       "      <th>1</th>\n",
       "      <th>2</th>\n",
       "      <th>3</th>\n",
       "      <th>4</th>\n",
       "      <th>5</th>\n",
       "      <th>6</th>\n",
       "      <th>7</th>\n",
       "      <th>...</th>\n",
       "      <th>5749</th>\n",
       "      <th>5750</th>\n",
       "      <th>5751</th>\n",
       "      <th>5752</th>\n",
       "      <th>5753</th>\n",
       "      <th>5754</th>\n",
       "      <th>5755</th>\n",
       "      <th>5756</th>\n",
       "      <th>5757</th>\n",
       "      <th>5758</th>\n",
       "    </tr>\n",
       "  </thead>\n",
       "  <tbody>\n",
       "    <tr>\n",
       "      <th>0</th>\n",
       "      <td>0.7906</td>\n",
       "      <td>55</td>\n",
       "      <td>0.0</td>\n",
       "      <td>0.0</td>\n",
       "      <td>0.0</td>\n",
       "      <td>0.0</td>\n",
       "      <td>0.0</td>\n",
       "      <td>0.0</td>\n",
       "      <td>0.0</td>\n",
       "      <td>0.0</td>\n",
       "      <td>...</td>\n",
       "      <td>0.0</td>\n",
       "      <td>0.0</td>\n",
       "      <td>0.0</td>\n",
       "      <td>0.0</td>\n",
       "      <td>0.0</td>\n",
       "      <td>0.0</td>\n",
       "      <td>0.0</td>\n",
       "      <td>0.0</td>\n",
       "      <td>0.0</td>\n",
       "      <td>0.0</td>\n",
       "    </tr>\n",
       "    <tr>\n",
       "      <th>1</th>\n",
       "      <td>0.8555</td>\n",
       "      <td>50</td>\n",
       "      <td>0.0</td>\n",
       "      <td>0.0</td>\n",
       "      <td>0.0</td>\n",
       "      <td>0.0</td>\n",
       "      <td>0.0</td>\n",
       "      <td>0.0</td>\n",
       "      <td>0.0</td>\n",
       "      <td>0.0</td>\n",
       "      <td>...</td>\n",
       "      <td>0.0</td>\n",
       "      <td>0.0</td>\n",
       "      <td>0.0</td>\n",
       "      <td>0.0</td>\n",
       "      <td>0.0</td>\n",
       "      <td>0.0</td>\n",
       "      <td>0.0</td>\n",
       "      <td>0.0</td>\n",
       "      <td>0.0</td>\n",
       "      <td>0.0</td>\n",
       "    </tr>\n",
       "    <tr>\n",
       "      <th>2</th>\n",
       "      <td>0.9457</td>\n",
       "      <td>223</td>\n",
       "      <td>0.0</td>\n",
       "      <td>0.0</td>\n",
       "      <td>0.0</td>\n",
       "      <td>0.0</td>\n",
       "      <td>0.0</td>\n",
       "      <td>0.0</td>\n",
       "      <td>0.0</td>\n",
       "      <td>0.0</td>\n",
       "      <td>...</td>\n",
       "      <td>0.0</td>\n",
       "      <td>0.0</td>\n",
       "      <td>0.0</td>\n",
       "      <td>0.0</td>\n",
       "      <td>0.0</td>\n",
       "      <td>0.0</td>\n",
       "      <td>0.0</td>\n",
       "      <td>0.0</td>\n",
       "      <td>0.0</td>\n",
       "      <td>0.0</td>\n",
       "    </tr>\n",
       "    <tr>\n",
       "      <th>3</th>\n",
       "      <td>0.0000</td>\n",
       "      <td>68</td>\n",
       "      <td>0.0</td>\n",
       "      <td>0.0</td>\n",
       "      <td>0.0</td>\n",
       "      <td>0.0</td>\n",
       "      <td>0.0</td>\n",
       "      <td>0.0</td>\n",
       "      <td>0.0</td>\n",
       "      <td>0.0</td>\n",
       "      <td>...</td>\n",
       "      <td>0.0</td>\n",
       "      <td>0.0</td>\n",
       "      <td>0.0</td>\n",
       "      <td>0.0</td>\n",
       "      <td>0.0</td>\n",
       "      <td>0.0</td>\n",
       "      <td>0.0</td>\n",
       "      <td>0.0</td>\n",
       "      <td>0.0</td>\n",
       "      <td>0.0</td>\n",
       "    </tr>\n",
       "    <tr>\n",
       "      <th>4</th>\n",
       "      <td>0.0000</td>\n",
       "      <td>89</td>\n",
       "      <td>0.0</td>\n",
       "      <td>0.0</td>\n",
       "      <td>0.0</td>\n",
       "      <td>0.0</td>\n",
       "      <td>0.0</td>\n",
       "      <td>0.0</td>\n",
       "      <td>0.0</td>\n",
       "      <td>0.0</td>\n",
       "      <td>...</td>\n",
       "      <td>0.0</td>\n",
       "      <td>0.0</td>\n",
       "      <td>0.0</td>\n",
       "      <td>0.0</td>\n",
       "      <td>0.0</td>\n",
       "      <td>0.0</td>\n",
       "      <td>0.0</td>\n",
       "      <td>0.0</td>\n",
       "      <td>0.0</td>\n",
       "      <td>0.0</td>\n",
       "    </tr>\n",
       "  </tbody>\n",
       "</table>\n",
       "<p>5 rows × 5761 columns</p>\n",
       "</div>"
      ],
      "text/plain": [
       "   Compound_Score  length    0    1    2    3    4    5    6    7  ...   5749  \\\n",
       "0          0.7906      55  0.0  0.0  0.0  0.0  0.0  0.0  0.0  0.0  ...    0.0   \n",
       "1          0.8555      50  0.0  0.0  0.0  0.0  0.0  0.0  0.0  0.0  ...    0.0   \n",
       "2          0.9457     223  0.0  0.0  0.0  0.0  0.0  0.0  0.0  0.0  ...    0.0   \n",
       "3          0.0000      68  0.0  0.0  0.0  0.0  0.0  0.0  0.0  0.0  ...    0.0   \n",
       "4          0.0000      89  0.0  0.0  0.0  0.0  0.0  0.0  0.0  0.0  ...    0.0   \n",
       "\n",
       "   5750  5751  5752  5753  5754  5755  5756  5757  5758  \n",
       "0   0.0   0.0   0.0   0.0   0.0   0.0   0.0   0.0   0.0  \n",
       "1   0.0   0.0   0.0   0.0   0.0   0.0   0.0   0.0   0.0  \n",
       "2   0.0   0.0   0.0   0.0   0.0   0.0   0.0   0.0   0.0  \n",
       "3   0.0   0.0   0.0   0.0   0.0   0.0   0.0   0.0   0.0  \n",
       "4   0.0   0.0   0.0   0.0   0.0   0.0   0.0   0.0   0.0  \n",
       "\n",
       "[5 rows x 5761 columns]"
      ]
     },
     "execution_count": 42,
     "metadata": {},
     "output_type": "execute_result"
    }
   ],
   "source": [
    "import pandas as pd\n",
    "\n",
    "Xfeatures_data = pd.concat([dsa['Compound_Score'], dsa['length'], pd.DataFrame(Xtf_idfVector.toarray())], axis = 1)\n",
    "Xfeatures_data.head(5)"
   ]
  },
  {
   "cell_type": "code",
   "execution_count": 43,
   "metadata": {},
   "outputs": [],
   "source": [
    "if 'RecommendStatus' in Xfeatures_data.columns:\n",
    "    print(\"Yes\")"
   ]
  },
  {
   "cell_type": "markdown",
   "metadata": {},
   "source": [
    "#### We finally have the dataframe we would be applying Machine Learning to"
   ]
  },
  {
   "cell_type": "code",
   "execution_count": 44,
   "metadata": {},
   "outputs": [],
   "source": [
    "from sklearn.ensemble import RandomForestClassifier\n",
    "from sklearn.metrics import precision_recall_fscore_support as score\n",
    "from sklearn.model_selection import train_test_split\n",
    "from imblearn.over_sampling import SMOTE\n",
    "\n",
    "\n",
    "X = Xfeatures_data\n",
    "y = dsa['RecommendStatus']\n"
   ]
  },
  {
   "cell_type": "code",
   "execution_count": 45,
   "metadata": {},
   "outputs": [
    {
     "name": "stdout",
     "output_type": "stream",
     "text": [
      "Shape of X: (3206, 5761)\n",
      "Shape of y: (3206,)\n"
     ]
    }
   ],
   "source": [
    "print('Shape of X: {}'.format(X.shape))\n",
    "print('Shape of y: {}'.format(y.shape))"
   ]
  },
  {
   "cell_type": "code",
   "execution_count": 46,
   "metadata": {},
   "outputs": [],
   "source": [
    "X_train,X_test,y_train,y_test = train_test_split(X, y, test_size = 0.2)"
   ]
  },
  {
   "cell_type": "code",
   "execution_count": 47,
   "metadata": {},
   "outputs": [
    {
     "name": "stdout",
     "output_type": "stream",
     "text": [
      "Number transactions X_train dataset:  (2564, 5761)\n",
      "Number transactions y_train dataset:  (2564,)\n",
      "Number transactions X_test dataset:  (642, 5761)\n",
      "Number transactions y_test dataset:  (642,)\n"
     ]
    }
   ],
   "source": [
    "print(\"Number transactions X_train dataset: \", X_train.shape)\n",
    "print(\"Number transactions y_train dataset: \", y_train.shape)\n",
    "print(\"Number transactions X_test dataset: \", X_test.shape)\n",
    "print(\"Number transactions y_test dataset: \", y_test.shape)"
   ]
  },
  {
   "cell_type": "code",
   "execution_count": 48,
   "metadata": {},
   "outputs": [
    {
     "name": "stdout",
     "output_type": "stream",
     "text": [
      "Before OverSampling, counts of label 'Recommended': 2512\n",
      "Before OverSampling, counts of label 'Not Recommend': 52 \n",
      "\n"
     ]
    }
   ],
   "source": [
    "print(\"Before OverSampling, counts of label 'Recommended': {}\".format(sum(y_train==\"Recommend\")))\n",
    "print(\"Before OverSampling, counts of label 'Not Recommend': {} \\n\".format(sum(y_train==\"Not Recommend\")))"
   ]
  },
  {
   "cell_type": "markdown",
   "metadata": {},
   "source": [
    "### Applying SMOTE to handle class imbalances"
   ]
  },
  {
   "cell_type": "code",
   "execution_count": 49,
   "metadata": {},
   "outputs": [],
   "source": [
    "sm = SMOTE(random_state=2)\n",
    "X_train_res, y_train_res = sm.fit_sample(X_train, y_train.ravel())"
   ]
  },
  {
   "cell_type": "code",
   "execution_count": 50,
   "metadata": {},
   "outputs": [
    {
     "name": "stdout",
     "output_type": "stream",
     "text": [
      "After OverSampling, the shape of train_X: (5024, 5761)\n",
      "After OverSampling, the shape of train_y: (5024,) \n",
      "\n"
     ]
    }
   ],
   "source": [
    "print('After OverSampling, the shape of train_X: {}'.format(X_train_res.shape))\n",
    "print('After OverSampling, the shape of train_y: {} \\n'.format(y_train_res.shape))"
   ]
  },
  {
   "cell_type": "code",
   "execution_count": 51,
   "metadata": {},
   "outputs": [
    {
     "name": "stdout",
     "output_type": "stream",
     "text": [
      "After OverSampling, counts of label 'Recommended': 2512\n",
      "After OverSampling, counts of label 'Not Recommend': 2512\n"
     ]
    }
   ],
   "source": [
    "print(\"After OverSampling, counts of label 'Recommended': {}\".format(sum(y_train_res==\"Recommend\")))\n",
    "print(\"After OverSampling, counts of label 'Not Recommend': {}\".format(sum(y_train_res==\"Not Recommend\")))"
   ]
  },
  {
   "cell_type": "markdown",
   "metadata": {},
   "source": [
    "# Applying Random Forest"
   ]
  },
  {
   "cell_type": "code",
   "execution_count": 52,
   "metadata": {},
   "outputs": [
    {
     "data": {
      "text/plain": [
       "[(0.06120703212712963, 'Compound_Score'),\n",
       " (0.02457761824287902, 3065),\n",
       " (0.0226074270422578, 5038),\n",
       " (0.022406000370648358, 135),\n",
       " (0.022180870977206668, 2175),\n",
       " (0.013241016695323541, 3772),\n",
       " (0.013055778966250818, 3975),\n",
       " (0.012957835613338181, 5325),\n",
       " (0.012582630515121422, 5426),\n",
       " (0.011859719697156823, 5016)]"
      ]
     },
     "execution_count": 52,
     "metadata": {},
     "output_type": "execute_result"
    }
   ],
   "source": [
    "rf = RandomForestClassifier(n_estimators= 50, max_depth= 20, n_jobs= -1)\n",
    "rf_model = rf.fit(X_train_res,y_train_res)\n",
    "sorted(zip(rf.feature_importances_,X_train.columns), reverse = True)[0:10]"
   ]
  },
  {
   "cell_type": "markdown",
   "metadata": {},
   "source": [
    "So our original assumption about Compound Score being a major indicator in classifcation values was correct"
   ]
  },
  {
   "cell_type": "markdown",
   "metadata": {},
   "source": [
    "#### Applying Grid Search to change hyper parameters and then applying RF\n"
   ]
  },
  {
   "cell_type": "markdown",
   "metadata": {},
   "source": [
    "# Using Logistic Regression for Comparison"
   ]
  },
  {
   "cell_type": "code",
   "execution_count": 56,
   "metadata": {
    "scrolled": true
   },
   "outputs": [
    {
     "name": "stdout",
     "output_type": "stream",
     "text": [
      "Accuracy : 0.9641744548286605\n",
      "0.984 : 0.9792993630573248\n"
     ]
    },
    {
     "name": "stderr",
     "output_type": "stream",
     "text": [
      "/anaconda3/lib/python3.6/site-packages/sklearn/linear_model/logistic.py:433: FutureWarning: Default solver will be changed to 'lbfgs' in 0.22. Specify a solver to silence this warning.\n",
      "  FutureWarning)\n"
     ]
    }
   ],
   "source": [
    "from sklearn.linear_model import LogisticRegression\n",
    "logisticRegr = LogisticRegression()\n",
    "logisticRegr.fit(X_train_res, y_train_res)\n",
    "y_pred_lr = logisticRegr.predict(X_test)\n",
    "precision,recall,fscore,support  = score(y_test,y_pred_lr, pos_label= 'Recommend', average = 'binary')\n",
    "print(\"Accuracy\",(y_pred_lr == y_test).sum()/ len(y_pred_lr), sep = \" : \")\n",
    "print(precision,recall, sep = \" : \")"
   ]
  },
  {
   "cell_type": "markdown",
   "metadata": {},
   "source": [
    "### Lift = 95.48/97.94  = 0.974"
   ]
  },
  {
   "cell_type": "markdown",
   "metadata": {},
   "source": [
    "### Model performs poorly in comparison to base classifer"
   ]
  },
  {
   "cell_type": "markdown",
   "metadata": {},
   "source": [
    "# Random forest with grid search"
   ]
  },
  {
   "cell_type": "code",
   "execution_count": 53,
   "metadata": {},
   "outputs": [],
   "source": [
    "def compute(n_est, depth):\n",
    "    rf = RandomForestClassifier(n_estimators= n_est, max_depth= depth)\n",
    "    rf_model = rf.fit(X_train_res, y_train_res)\n",
    "    y_pred  = rf_model.predict(X_test)\n",
    "    precision,recall,fscore,support  = score(y_test,y_pred, pos_label= 'Recommend', average = 'binary')\n",
    "    print('Est: {}\\ Depth: {}\\ Precision: {}\\ Recall: {}\\ Accuracy: {}'.format(n_est, depth, round(precision,3), round(recall,3), (y_pred == y_test).sum()/ len(y_pred)))"
   ]
  },
  {
   "cell_type": "code",
   "execution_count": 54,
   "metadata": {
    "scrolled": false
   },
   "outputs": [
    {
     "name": "stdout",
     "output_type": "stream",
     "text": [
      "Est: 10\\ Depth: 20\\ Precision: 0.98\\ Recall: 0.994\\ Accuracy: 0.9735202492211839\n",
      "Est: 10\\ Depth: 40\\ Precision: 0.98\\ Recall: 1.0\\ Accuracy: 0.9797507788161994\n",
      "Est: 10\\ Depth: None\\ Precision: 0.98\\ Recall: 1.0\\ Accuracy: 0.9797507788161994\n",
      "Est: 30\\ Depth: 20\\ Precision: 0.978\\ Recall: 1.0\\ Accuracy: 0.9781931464174455\n",
      "Est: 30\\ Depth: 40\\ Precision: 0.978\\ Recall: 1.0\\ Accuracy: 0.9781931464174455\n",
      "Est: 30\\ Depth: None\\ Precision: 0.978\\ Recall: 1.0\\ Accuracy: 0.9781931464174455\n"
     ]
    }
   ],
   "source": [
    "for n_est in [10,30]:\n",
    "    for depth in [20,40,None]:\n",
    "        compute(n_est,depth)\n",
    "    "
   ]
  },
  {
   "cell_type": "markdown",
   "metadata": {},
   "source": [
    "### Lift :  97.97/97.94 = 1.00030630999"
   ]
  },
  {
   "cell_type": "code",
   "execution_count": 55,
   "metadata": {
    "scrolled": false
   },
   "outputs": [
    {
     "data": {
      "text/html": [
       "<div>\n",
       "<style scoped>\n",
       "    .dataframe tbody tr th:only-of-type {\n",
       "        vertical-align: middle;\n",
       "    }\n",
       "\n",
       "    .dataframe tbody tr th {\n",
       "        vertical-align: top;\n",
       "    }\n",
       "\n",
       "    .dataframe thead th {\n",
       "        text-align: right;\n",
       "    }\n",
       "</style>\n",
       "<table border=\"1\" class=\"dataframe\">\n",
       "  <thead>\n",
       "    <tr style=\"text-align: right;\">\n",
       "      <th></th>\n",
       "      <th>level_0</th>\n",
       "      <th>index</th>\n",
       "      <th>ReviewHelpful</th>\n",
       "      <th>Rating</th>\n",
       "      <th>Username</th>\n",
       "      <th>RNum</th>\n",
       "      <th>feedback</th>\n",
       "      <th>Compound_Score</th>\n",
       "      <th>RecommendStatus</th>\n",
       "      <th>length</th>\n",
       "    </tr>\n",
       "  </thead>\n",
       "  <tbody>\n",
       "    <tr>\n",
       "      <th>0</th>\n",
       "      <td>0</td>\n",
       "      <td>0</td>\n",
       "      <td>0.0</td>\n",
       "      <td>5.0</td>\n",
       "      <td>Bubba</td>\n",
       "      <td>1</td>\n",
       "      <td>Was a gift for our 8 year old daughter. Great ...</td>\n",
       "      <td>0.7906</td>\n",
       "      <td>Recommend</td>\n",
       "      <td>55</td>\n",
       "    </tr>\n",
       "    <tr>\n",
       "      <th>1</th>\n",
       "      <td>1</td>\n",
       "      <td>1</td>\n",
       "      <td>0.0</td>\n",
       "      <td>5.0</td>\n",
       "      <td>skeet</td>\n",
       "      <td>1</td>\n",
       "      <td>my grandkids love it. This is the 3 one we bou...</td>\n",
       "      <td>0.8555</td>\n",
       "      <td>Recommend</td>\n",
       "      <td>50</td>\n",
       "    </tr>\n",
       "    <tr>\n",
       "      <th>2</th>\n",
       "      <td>2</td>\n",
       "      <td>2</td>\n",
       "      <td>0.0</td>\n",
       "      <td>3.0</td>\n",
       "      <td>Kidsphone</td>\n",
       "      <td>1</td>\n",
       "      <td>Great case ok tablet no Android play store. We...</td>\n",
       "      <td>0.9457</td>\n",
       "      <td>Recommend</td>\n",
       "      <td>223</td>\n",
       "    </tr>\n",
       "    <tr>\n",
       "      <th>3</th>\n",
       "      <td>3</td>\n",
       "      <td>3</td>\n",
       "      <td>0.0</td>\n",
       "      <td>3.0</td>\n",
       "      <td>Shannon</td>\n",
       "      <td>1</td>\n",
       "      <td>Grandson became board with what it offers. Plu...</td>\n",
       "      <td>0.0000</td>\n",
       "      <td>Recommend</td>\n",
       "      <td>68</td>\n",
       "    </tr>\n",
       "    <tr>\n",
       "      <th>4</th>\n",
       "      <td>4</td>\n",
       "      <td>4</td>\n",
       "      <td>0.0</td>\n",
       "      <td>1.0</td>\n",
       "      <td>FitnessBuff</td>\n",
       "      <td>0</td>\n",
       "      <td>This product wouldn't turn on nor charge and t...</td>\n",
       "      <td>0.0000</td>\n",
       "      <td>Not Recommend</td>\n",
       "      <td>89</td>\n",
       "    </tr>\n",
       "  </tbody>\n",
       "</table>\n",
       "</div>"
      ],
      "text/plain": [
       "   level_0  index  ReviewHelpful  Rating     Username  RNum  \\\n",
       "0        0      0            0.0     5.0        Bubba     1   \n",
       "1        1      1            0.0     5.0        skeet     1   \n",
       "2        2      2            0.0     3.0    Kidsphone     1   \n",
       "3        3      3            0.0     3.0      Shannon     1   \n",
       "4        4      4            0.0     1.0  FitnessBuff     0   \n",
       "\n",
       "                                            feedback  Compound_Score  \\\n",
       "0  Was a gift for our 8 year old daughter. Great ...          0.7906   \n",
       "1  my grandkids love it. This is the 3 one we bou...          0.8555   \n",
       "2  Great case ok tablet no Android play store. We...          0.9457   \n",
       "3  Grandson became board with what it offers. Plu...          0.0000   \n",
       "4  This product wouldn't turn on nor charge and t...          0.0000   \n",
       "\n",
       "  RecommendStatus  length  \n",
       "0       Recommend      55  \n",
       "1       Recommend      50  \n",
       "2       Recommend     223  \n",
       "3       Recommend      68  \n",
       "4   Not Recommend      89  "
      ]
     },
     "execution_count": 55,
     "metadata": {},
     "output_type": "execute_result"
    }
   ],
   "source": [
    "dsa.head()"
   ]
  },
  {
   "cell_type": "markdown",
   "metadata": {},
   "source": [
    "### 9. Identifying which features led to rejection and can be improved"
   ]
  },
  {
   "cell_type": "code",
   "execution_count": null,
   "metadata": {
    "scrolled": true
   },
   "outputs": [],
   "source": [
    "product_notR= pd.DataFrame(dsa[dsa.RecommendStatus == 'Not Recommend'])\n",
    "\n",
    "\n",
    "\n",
    "solution = ['service','Amazon Customer Service','solution','customer support']\n",
    "screen = ['flash','font','not responsive','screen','navigate','page','control','touch', 'responsive','glare','navigate','home screen','froze','Page','page']\n",
    "instructions = ['difficult','instructions']          \n",
    "charging = ['charge','battery','charged','USB']\n",
    "price = ['cheap','high price','PRICE']          \n",
    "features = ['much better tablets', 'ipad','other tabs','Ipad Mini','technology','iPhone','OS','difficult']          \n",
    "WIFI = ['cloud','wifi', 'connection','internet']\n",
    "volume = ['sound','volume']          \n",
    "books = ['cannot load' ,'apps','offline','compatible','USB','library']\n",
    "weight = ['heavy']\n",
    "          \n",
    "          \n",
    "          \n",
    "def assign_feature_problem(data):\n",
    "    if any(word in data for word in solution):\n",
    "          data = \"solution\"\n",
    "          return data\n",
    "    elif any(word in data for word in screen):\n",
    "          data = \"screen\"\n",
    "          return data\n",
    "    elif any(word in data for word in instructions):\n",
    "          data = \"instructions\"\n",
    "          return data\n",
    "    elif any(word in data for word in charging):\n",
    "          data = \"charging\"\n",
    "          return data\n",
    "    elif any(word in data for word in price):\n",
    "          data = \"price\"\n",
    "          return data\n",
    "    elif any(word in data for word in features):\n",
    "          data = \"features\"\n",
    "          return data\n",
    "    elif any(word in data for word in WIFI):\n",
    "          data = \"WIFI\"\n",
    "          return data\n",
    "    elif any(word in data for word in volume):\n",
    "          data = \"volume\"\n",
    "          return data\n",
    "    elif any(word in data for word in books):\n",
    "          data = \"books\"\n",
    "          return data\n",
    "    elif any(word in data for word in weight):\n",
    "          data = \"weight\"\n",
    "          return data\n",
    "    else:\n",
    "          data = \"other\"\n",
    "          return data\n",
    "\n",
    "product_notR['Feature'] = pd.DataFrame(product_notR['feedback'].apply(lambda x : assign_feature_problem(x)))\n",
    "product_notR.head(5)        \n",
    "          \n",
    "          "
   ]
  },
  {
   "cell_type": "code",
   "execution_count": null,
   "metadata": {},
   "outputs": [],
   "source": [
    "product_notR.Feature.value_counts()"
   ]
  },
  {
   "cell_type": "code",
   "execution_count": null,
   "metadata": {},
   "outputs": [],
   "source": [
    "import shap\n",
    "shap.initjs()"
   ]
  },
  {
   "cell_type": "code",
   "execution_count": null,
   "metadata": {},
   "outputs": [],
   "source": [
    "\n",
    "shap_values = shap.TreeExplainer(rf).shap_values(X_test)\n",
    "shap.summary_plot(shap_values, X_test)"
   ]
  },
  {
   "cell_type": "code",
   "execution_count": null,
   "metadata": {},
   "outputs": [],
   "source": []
  },
  {
   "cell_type": "markdown",
   "metadata": {},
   "source": [
    "# Conclusion :  \n",
    "\n",
    "LIFT : Accuracy of Model/ (Accuracy of Base Model)\n",
    "\n",
    "\n",
    "\n",
    "LIFT: 98.131/97.94 = 1.002\n",
    "\n",
    "Feature Engineering played a key role in boosting the model's performance matrix. The length of the text\n",
    "and calculation of compound_score using sentiment analysis served as a basis to strike a balance between Precision & Recall (0.975 vs 1.0) and further made the model robust enough to predict user's recommend status to 97.5%\n",
    "\n",
    "This concludes our Analysis of the Kindle Paperwhite."
   ]
  }
 ],
 "metadata": {
  "kernelspec": {
   "display_name": "Python 3",
   "language": "python",
   "name": "python3"
  },
  "language_info": {
   "codemirror_mode": {
    "name": "ipython",
    "version": 3
   },
   "file_extension": ".py",
   "mimetype": "text/x-python",
   "name": "python",
   "nbconvert_exporter": "python",
   "pygments_lexer": "ipython3",
   "version": "3.6.8"
  }
 },
 "nbformat": 4,
 "nbformat_minor": 2
}
